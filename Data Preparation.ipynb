{
  "nbformat": 4,
  "nbformat_minor": 0,
  "metadata": {
    "colab": {
      "provenance": [],
      "collapsed_sections": []
    },
    "kernelspec": {
      "name": "python3",
      "display_name": "Python 3"
    },
    "language_info": {
      "name": "python"
    },
    "widgets": {
      "application/vnd.jupyter.widget-state+json": {
        "e3b6ab0585344129bc9a6b5f935f78a8": {
          "model_module": "@jupyter-widgets/controls",
          "model_name": "HBoxModel",
          "model_module_version": "1.5.0",
          "state": {
            "_view_name": "HBoxView",
            "_dom_classes": [],
            "_model_name": "HBoxModel",
            "_view_module": "@jupyter-widgets/controls",
            "_model_module_version": "1.5.0",
            "_view_count": null,
            "_view_module_version": "1.5.0",
            "box_style": "",
            "layout": "IPY_MODEL_ff382427724c4808a1016b72de8a8cac",
            "_model_module": "@jupyter-widgets/controls",
            "children": [
              "IPY_MODEL_0393acdd72b54b88942579540945259d",
              "IPY_MODEL_070503145ff24c8c9c718f15b976280f",
              "IPY_MODEL_b53bc254a52c427abeb4955544c69c48"
            ]
          }
        },
        "ff382427724c4808a1016b72de8a8cac": {
          "model_module": "@jupyter-widgets/base",
          "model_name": "LayoutModel",
          "model_module_version": "1.2.0",
          "state": {
            "_view_name": "LayoutView",
            "grid_template_rows": null,
            "right": null,
            "justify_content": null,
            "_view_module": "@jupyter-widgets/base",
            "overflow": null,
            "_model_module_version": "1.2.0",
            "_view_count": null,
            "flex_flow": null,
            "width": null,
            "min_width": null,
            "border": null,
            "align_items": null,
            "bottom": null,
            "_model_module": "@jupyter-widgets/base",
            "top": null,
            "grid_column": null,
            "overflow_y": null,
            "overflow_x": null,
            "grid_auto_flow": null,
            "grid_area": null,
            "grid_template_columns": null,
            "flex": null,
            "_model_name": "LayoutModel",
            "justify_items": null,
            "grid_row": null,
            "max_height": null,
            "align_content": null,
            "visibility": null,
            "align_self": null,
            "height": null,
            "min_height": null,
            "padding": null,
            "grid_auto_rows": null,
            "grid_gap": null,
            "max_width": null,
            "order": null,
            "_view_module_version": "1.2.0",
            "grid_template_areas": null,
            "object_position": null,
            "object_fit": null,
            "grid_auto_columns": null,
            "margin": null,
            "display": null,
            "left": null
          }
        },
        "0393acdd72b54b88942579540945259d": {
          "model_module": "@jupyter-widgets/controls",
          "model_name": "HTMLModel",
          "model_module_version": "1.5.0",
          "state": {
            "_view_name": "HTMLView",
            "style": "IPY_MODEL_084b51234678400686b65c1bb7f828bb",
            "_dom_classes": [],
            "description": "",
            "_model_name": "HTMLModel",
            "placeholder": "​",
            "_view_module": "@jupyter-widgets/controls",
            "_model_module_version": "1.5.0",
            "value": "Downloading: ",
            "_view_count": null,
            "_view_module_version": "1.5.0",
            "description_tooltip": null,
            "_model_module": "@jupyter-widgets/controls",
            "layout": "IPY_MODEL_9cf67490bfde47e39f6813033d4fab91"
          }
        },
        "070503145ff24c8c9c718f15b976280f": {
          "model_module": "@jupyter-widgets/controls",
          "model_name": "FloatProgressModel",
          "model_module_version": "1.5.0",
          "state": {
            "_view_name": "ProgressView",
            "style": "IPY_MODEL_becfe484176b422abe23d098cb1d8122",
            "_dom_classes": [],
            "description": "",
            "_model_name": "FloatProgressModel",
            "bar_style": "success",
            "max": 3096,
            "_view_module": "@jupyter-widgets/controls",
            "_model_module_version": "1.5.0",
            "value": 3096,
            "_view_count": null,
            "_view_module_version": "1.5.0",
            "orientation": "horizontal",
            "min": 0,
            "description_tooltip": null,
            "_model_module": "@jupyter-widgets/controls",
            "layout": "IPY_MODEL_37b0c17786724963ab657e302431a3f7"
          }
        },
        "b53bc254a52c427abeb4955544c69c48": {
          "model_module": "@jupyter-widgets/controls",
          "model_name": "HTMLModel",
          "model_module_version": "1.5.0",
          "state": {
            "_view_name": "HTMLView",
            "style": "IPY_MODEL_a7754ae0b1f94a93b6f80b95bd7ed8b8",
            "_dom_classes": [],
            "description": "",
            "_model_name": "HTMLModel",
            "placeholder": "​",
            "_view_module": "@jupyter-widgets/controls",
            "_model_module_version": "1.5.0",
            "value": " 13.1k/? [00:00&lt;00:00, 186kB/s]",
            "_view_count": null,
            "_view_module_version": "1.5.0",
            "description_tooltip": null,
            "_model_module": "@jupyter-widgets/controls",
            "layout": "IPY_MODEL_b0c6183365e8482ca21511d30a12d8c6"
          }
        },
        "084b51234678400686b65c1bb7f828bb": {
          "model_module": "@jupyter-widgets/controls",
          "model_name": "DescriptionStyleModel",
          "model_module_version": "1.5.0",
          "state": {
            "_view_name": "StyleView",
            "_model_name": "DescriptionStyleModel",
            "description_width": "",
            "_view_module": "@jupyter-widgets/base",
            "_model_module_version": "1.5.0",
            "_view_count": null,
            "_view_module_version": "1.2.0",
            "_model_module": "@jupyter-widgets/controls"
          }
        },
        "9cf67490bfde47e39f6813033d4fab91": {
          "model_module": "@jupyter-widgets/base",
          "model_name": "LayoutModel",
          "model_module_version": "1.2.0",
          "state": {
            "_view_name": "LayoutView",
            "grid_template_rows": null,
            "right": null,
            "justify_content": null,
            "_view_module": "@jupyter-widgets/base",
            "overflow": null,
            "_model_module_version": "1.2.0",
            "_view_count": null,
            "flex_flow": null,
            "width": null,
            "min_width": null,
            "border": null,
            "align_items": null,
            "bottom": null,
            "_model_module": "@jupyter-widgets/base",
            "top": null,
            "grid_column": null,
            "overflow_y": null,
            "overflow_x": null,
            "grid_auto_flow": null,
            "grid_area": null,
            "grid_template_columns": null,
            "flex": null,
            "_model_name": "LayoutModel",
            "justify_items": null,
            "grid_row": null,
            "max_height": null,
            "align_content": null,
            "visibility": null,
            "align_self": null,
            "height": null,
            "min_height": null,
            "padding": null,
            "grid_auto_rows": null,
            "grid_gap": null,
            "max_width": null,
            "order": null,
            "_view_module_version": "1.2.0",
            "grid_template_areas": null,
            "object_position": null,
            "object_fit": null,
            "grid_auto_columns": null,
            "margin": null,
            "display": null,
            "left": null
          }
        },
        "becfe484176b422abe23d098cb1d8122": {
          "model_module": "@jupyter-widgets/controls",
          "model_name": "ProgressStyleModel",
          "model_module_version": "1.5.0",
          "state": {
            "_view_name": "StyleView",
            "_model_name": "ProgressStyleModel",
            "description_width": "",
            "_view_module": "@jupyter-widgets/base",
            "_model_module_version": "1.5.0",
            "_view_count": null,
            "_view_module_version": "1.2.0",
            "bar_color": null,
            "_model_module": "@jupyter-widgets/controls"
          }
        },
        "37b0c17786724963ab657e302431a3f7": {
          "model_module": "@jupyter-widgets/base",
          "model_name": "LayoutModel",
          "model_module_version": "1.2.0",
          "state": {
            "_view_name": "LayoutView",
            "grid_template_rows": null,
            "right": null,
            "justify_content": null,
            "_view_module": "@jupyter-widgets/base",
            "overflow": null,
            "_model_module_version": "1.2.0",
            "_view_count": null,
            "flex_flow": null,
            "width": null,
            "min_width": null,
            "border": null,
            "align_items": null,
            "bottom": null,
            "_model_module": "@jupyter-widgets/base",
            "top": null,
            "grid_column": null,
            "overflow_y": null,
            "overflow_x": null,
            "grid_auto_flow": null,
            "grid_area": null,
            "grid_template_columns": null,
            "flex": null,
            "_model_name": "LayoutModel",
            "justify_items": null,
            "grid_row": null,
            "max_height": null,
            "align_content": null,
            "visibility": null,
            "align_self": null,
            "height": null,
            "min_height": null,
            "padding": null,
            "grid_auto_rows": null,
            "grid_gap": null,
            "max_width": null,
            "order": null,
            "_view_module_version": "1.2.0",
            "grid_template_areas": null,
            "object_position": null,
            "object_fit": null,
            "grid_auto_columns": null,
            "margin": null,
            "display": null,
            "left": null
          }
        },
        "a7754ae0b1f94a93b6f80b95bd7ed8b8": {
          "model_module": "@jupyter-widgets/controls",
          "model_name": "DescriptionStyleModel",
          "model_module_version": "1.5.0",
          "state": {
            "_view_name": "StyleView",
            "_model_name": "DescriptionStyleModel",
            "description_width": "",
            "_view_module": "@jupyter-widgets/base",
            "_model_module_version": "1.5.0",
            "_view_count": null,
            "_view_module_version": "1.2.0",
            "_model_module": "@jupyter-widgets/controls"
          }
        },
        "b0c6183365e8482ca21511d30a12d8c6": {
          "model_module": "@jupyter-widgets/base",
          "model_name": "LayoutModel",
          "model_module_version": "1.2.0",
          "state": {
            "_view_name": "LayoutView",
            "grid_template_rows": null,
            "right": null,
            "justify_content": null,
            "_view_module": "@jupyter-widgets/base",
            "overflow": null,
            "_model_module_version": "1.2.0",
            "_view_count": null,
            "flex_flow": null,
            "width": null,
            "min_width": null,
            "border": null,
            "align_items": null,
            "bottom": null,
            "_model_module": "@jupyter-widgets/base",
            "top": null,
            "grid_column": null,
            "overflow_y": null,
            "overflow_x": null,
            "grid_auto_flow": null,
            "grid_area": null,
            "grid_template_columns": null,
            "flex": null,
            "_model_name": "LayoutModel",
            "justify_items": null,
            "grid_row": null,
            "max_height": null,
            "align_content": null,
            "visibility": null,
            "align_self": null,
            "height": null,
            "min_height": null,
            "padding": null,
            "grid_auto_rows": null,
            "grid_gap": null,
            "max_width": null,
            "order": null,
            "_view_module_version": "1.2.0",
            "grid_template_areas": null,
            "object_position": null,
            "object_fit": null,
            "grid_auto_columns": null,
            "margin": null,
            "display": null,
            "left": null
          }
        },
        "5fe083a7cd344c88973fa766344d036e": {
          "model_module": "@jupyter-widgets/controls",
          "model_name": "HBoxModel",
          "model_module_version": "1.5.0",
          "state": {
            "_view_name": "HBoxView",
            "_dom_classes": [],
            "_model_name": "HBoxModel",
            "_view_module": "@jupyter-widgets/controls",
            "_model_module_version": "1.5.0",
            "_view_count": null,
            "_view_module_version": "1.5.0",
            "box_style": "",
            "layout": "IPY_MODEL_5722fe623c44416d8a595de0ebd90534",
            "_model_module": "@jupyter-widgets/controls",
            "children": [
              "IPY_MODEL_70e39ed4408b49aeab499382a87513df",
              "IPY_MODEL_312e8f60cfaa445da4aff45e55e760b3",
              "IPY_MODEL_16a5677b43454f759de6eb33b77eb675"
            ]
          }
        },
        "5722fe623c44416d8a595de0ebd90534": {
          "model_module": "@jupyter-widgets/base",
          "model_name": "LayoutModel",
          "model_module_version": "1.2.0",
          "state": {
            "_view_name": "LayoutView",
            "grid_template_rows": null,
            "right": null,
            "justify_content": null,
            "_view_module": "@jupyter-widgets/base",
            "overflow": null,
            "_model_module_version": "1.2.0",
            "_view_count": null,
            "flex_flow": null,
            "width": null,
            "min_width": null,
            "border": null,
            "align_items": null,
            "bottom": null,
            "_model_module": "@jupyter-widgets/base",
            "top": null,
            "grid_column": null,
            "overflow_y": null,
            "overflow_x": null,
            "grid_auto_flow": null,
            "grid_area": null,
            "grid_template_columns": null,
            "flex": null,
            "_model_name": "LayoutModel",
            "justify_items": null,
            "grid_row": null,
            "max_height": null,
            "align_content": null,
            "visibility": null,
            "align_self": null,
            "height": null,
            "min_height": null,
            "padding": null,
            "grid_auto_rows": null,
            "grid_gap": null,
            "max_width": null,
            "order": null,
            "_view_module_version": "1.2.0",
            "grid_template_areas": null,
            "object_position": null,
            "object_fit": null,
            "grid_auto_columns": null,
            "margin": null,
            "display": null,
            "left": null
          }
        },
        "70e39ed4408b49aeab499382a87513df": {
          "model_module": "@jupyter-widgets/controls",
          "model_name": "HTMLModel",
          "model_module_version": "1.5.0",
          "state": {
            "_view_name": "HTMLView",
            "style": "IPY_MODEL_b5afd1db45f74bcfb7d86b34704cdfb6",
            "_dom_classes": [],
            "description": "",
            "_model_name": "HTMLModel",
            "placeholder": "​",
            "_view_module": "@jupyter-widgets/controls",
            "_model_module_version": "1.5.0",
            "value": "Downloading: ",
            "_view_count": null,
            "_view_module_version": "1.5.0",
            "description_tooltip": null,
            "_model_module": "@jupyter-widgets/controls",
            "layout": "IPY_MODEL_a86913f4b61042bab51cceeb9ed372f2"
          }
        },
        "312e8f60cfaa445da4aff45e55e760b3": {
          "model_module": "@jupyter-widgets/controls",
          "model_name": "FloatProgressModel",
          "model_module_version": "1.5.0",
          "state": {
            "_view_name": "ProgressView",
            "style": "IPY_MODEL_e0486b497c3446b0be0e95e94df8a87f",
            "_dom_classes": [],
            "description": "",
            "_model_name": "FloatProgressModel",
            "bar_style": "success",
            "max": 2771,
            "_view_module": "@jupyter-widgets/controls",
            "_model_module_version": "1.5.0",
            "value": 2771,
            "_view_count": null,
            "_view_module_version": "1.5.0",
            "orientation": "horizontal",
            "min": 0,
            "description_tooltip": null,
            "_model_module": "@jupyter-widgets/controls",
            "layout": "IPY_MODEL_504a9f8b18a343d597db7e5e7270558b"
          }
        },
        "16a5677b43454f759de6eb33b77eb675": {
          "model_module": "@jupyter-widgets/controls",
          "model_name": "HTMLModel",
          "model_module_version": "1.5.0",
          "state": {
            "_view_name": "HTMLView",
            "style": "IPY_MODEL_a586741c867248e297401d55083958b4",
            "_dom_classes": [],
            "description": "",
            "_model_name": "HTMLModel",
            "placeholder": "​",
            "_view_module": "@jupyter-widgets/controls",
            "_model_module_version": "1.5.0",
            "value": " 18.0k/? [00:00&lt;00:00, 183kB/s]",
            "_view_count": null,
            "_view_module_version": "1.5.0",
            "description_tooltip": null,
            "_model_module": "@jupyter-widgets/controls",
            "layout": "IPY_MODEL_c5a38ab8c27a40e7895c063d26e6ccf3"
          }
        },
        "b5afd1db45f74bcfb7d86b34704cdfb6": {
          "model_module": "@jupyter-widgets/controls",
          "model_name": "DescriptionStyleModel",
          "model_module_version": "1.5.0",
          "state": {
            "_view_name": "StyleView",
            "_model_name": "DescriptionStyleModel",
            "description_width": "",
            "_view_module": "@jupyter-widgets/base",
            "_model_module_version": "1.5.0",
            "_view_count": null,
            "_view_module_version": "1.2.0",
            "_model_module": "@jupyter-widgets/controls"
          }
        },
        "a86913f4b61042bab51cceeb9ed372f2": {
          "model_module": "@jupyter-widgets/base",
          "model_name": "LayoutModel",
          "model_module_version": "1.2.0",
          "state": {
            "_view_name": "LayoutView",
            "grid_template_rows": null,
            "right": null,
            "justify_content": null,
            "_view_module": "@jupyter-widgets/base",
            "overflow": null,
            "_model_module_version": "1.2.0",
            "_view_count": null,
            "flex_flow": null,
            "width": null,
            "min_width": null,
            "border": null,
            "align_items": null,
            "bottom": null,
            "_model_module": "@jupyter-widgets/base",
            "top": null,
            "grid_column": null,
            "overflow_y": null,
            "overflow_x": null,
            "grid_auto_flow": null,
            "grid_area": null,
            "grid_template_columns": null,
            "flex": null,
            "_model_name": "LayoutModel",
            "justify_items": null,
            "grid_row": null,
            "max_height": null,
            "align_content": null,
            "visibility": null,
            "align_self": null,
            "height": null,
            "min_height": null,
            "padding": null,
            "grid_auto_rows": null,
            "grid_gap": null,
            "max_width": null,
            "order": null,
            "_view_module_version": "1.2.0",
            "grid_template_areas": null,
            "object_position": null,
            "object_fit": null,
            "grid_auto_columns": null,
            "margin": null,
            "display": null,
            "left": null
          }
        },
        "e0486b497c3446b0be0e95e94df8a87f": {
          "model_module": "@jupyter-widgets/controls",
          "model_name": "ProgressStyleModel",
          "model_module_version": "1.5.0",
          "state": {
            "_view_name": "StyleView",
            "_model_name": "ProgressStyleModel",
            "description_width": "",
            "_view_module": "@jupyter-widgets/base",
            "_model_module_version": "1.5.0",
            "_view_count": null,
            "_view_module_version": "1.2.0",
            "bar_color": null,
            "_model_module": "@jupyter-widgets/controls"
          }
        },
        "504a9f8b18a343d597db7e5e7270558b": {
          "model_module": "@jupyter-widgets/base",
          "model_name": "LayoutModel",
          "model_module_version": "1.2.0",
          "state": {
            "_view_name": "LayoutView",
            "grid_template_rows": null,
            "right": null,
            "justify_content": null,
            "_view_module": "@jupyter-widgets/base",
            "overflow": null,
            "_model_module_version": "1.2.0",
            "_view_count": null,
            "flex_flow": null,
            "width": null,
            "min_width": null,
            "border": null,
            "align_items": null,
            "bottom": null,
            "_model_module": "@jupyter-widgets/base",
            "top": null,
            "grid_column": null,
            "overflow_y": null,
            "overflow_x": null,
            "grid_auto_flow": null,
            "grid_area": null,
            "grid_template_columns": null,
            "flex": null,
            "_model_name": "LayoutModel",
            "justify_items": null,
            "grid_row": null,
            "max_height": null,
            "align_content": null,
            "visibility": null,
            "align_self": null,
            "height": null,
            "min_height": null,
            "padding": null,
            "grid_auto_rows": null,
            "grid_gap": null,
            "max_width": null,
            "order": null,
            "_view_module_version": "1.2.0",
            "grid_template_areas": null,
            "object_position": null,
            "object_fit": null,
            "grid_auto_columns": null,
            "margin": null,
            "display": null,
            "left": null
          }
        },
        "a586741c867248e297401d55083958b4": {
          "model_module": "@jupyter-widgets/controls",
          "model_name": "DescriptionStyleModel",
          "model_module_version": "1.5.0",
          "state": {
            "_view_name": "StyleView",
            "_model_name": "DescriptionStyleModel",
            "description_width": "",
            "_view_module": "@jupyter-widgets/base",
            "_model_module_version": "1.5.0",
            "_view_count": null,
            "_view_module_version": "1.2.0",
            "_model_module": "@jupyter-widgets/controls"
          }
        },
        "c5a38ab8c27a40e7895c063d26e6ccf3": {
          "model_module": "@jupyter-widgets/base",
          "model_name": "LayoutModel",
          "model_module_version": "1.2.0",
          "state": {
            "_view_name": "LayoutView",
            "grid_template_rows": null,
            "right": null,
            "justify_content": null,
            "_view_module": "@jupyter-widgets/base",
            "overflow": null,
            "_model_module_version": "1.2.0",
            "_view_count": null,
            "flex_flow": null,
            "width": null,
            "min_width": null,
            "border": null,
            "align_items": null,
            "bottom": null,
            "_model_module": "@jupyter-widgets/base",
            "top": null,
            "grid_column": null,
            "overflow_y": null,
            "overflow_x": null,
            "grid_auto_flow": null,
            "grid_area": null,
            "grid_template_columns": null,
            "flex": null,
            "_model_name": "LayoutModel",
            "justify_items": null,
            "grid_row": null,
            "max_height": null,
            "align_content": null,
            "visibility": null,
            "align_self": null,
            "height": null,
            "min_height": null,
            "padding": null,
            "grid_auto_rows": null,
            "grid_gap": null,
            "max_width": null,
            "order": null,
            "_view_module_version": "1.2.0",
            "grid_template_areas": null,
            "object_position": null,
            "object_fit": null,
            "grid_auto_columns": null,
            "margin": null,
            "display": null,
            "left": null
          }
        },
        "98a9c0a2ef6647db9de4b68a8b407183": {
          "model_module": "@jupyter-widgets/controls",
          "model_name": "HBoxModel",
          "model_module_version": "1.5.0",
          "state": {
            "_view_name": "HBoxView",
            "_dom_classes": [],
            "_model_name": "HBoxModel",
            "_view_module": "@jupyter-widgets/controls",
            "_model_module_version": "1.5.0",
            "_view_count": null,
            "_view_module_version": "1.5.0",
            "box_style": "",
            "layout": "IPY_MODEL_71c336843e77430d97357d3c47a22940",
            "_model_module": "@jupyter-widgets/controls",
            "children": [
              "IPY_MODEL_3511b9897d994656be70aac05fea3dd3",
              "IPY_MODEL_2cad5706b0bf419da97864f8ddf39a8c",
              "IPY_MODEL_3ac0a246db8748ddaf6b7aa9a600d111"
            ]
          }
        },
        "71c336843e77430d97357d3c47a22940": {
          "model_module": "@jupyter-widgets/base",
          "model_name": "LayoutModel",
          "model_module_version": "1.2.0",
          "state": {
            "_view_name": "LayoutView",
            "grid_template_rows": null,
            "right": null,
            "justify_content": null,
            "_view_module": "@jupyter-widgets/base",
            "overflow": null,
            "_model_module_version": "1.2.0",
            "_view_count": null,
            "flex_flow": null,
            "width": null,
            "min_width": null,
            "border": null,
            "align_items": null,
            "bottom": null,
            "_model_module": "@jupyter-widgets/base",
            "top": null,
            "grid_column": null,
            "overflow_y": null,
            "overflow_x": null,
            "grid_auto_flow": null,
            "grid_area": null,
            "grid_template_columns": null,
            "flex": null,
            "_model_name": "LayoutModel",
            "justify_items": null,
            "grid_row": null,
            "max_height": null,
            "align_content": null,
            "visibility": null,
            "align_self": null,
            "height": null,
            "min_height": null,
            "padding": null,
            "grid_auto_rows": null,
            "grid_gap": null,
            "max_width": null,
            "order": null,
            "_view_module_version": "1.2.0",
            "grid_template_areas": null,
            "object_position": null,
            "object_fit": null,
            "grid_auto_columns": null,
            "margin": null,
            "display": null,
            "left": null
          }
        },
        "3511b9897d994656be70aac05fea3dd3": {
          "model_module": "@jupyter-widgets/controls",
          "model_name": "HTMLModel",
          "model_module_version": "1.5.0",
          "state": {
            "_view_name": "HTMLView",
            "style": "IPY_MODEL_43898b9859fa4d44b6642e0552401369",
            "_dom_classes": [],
            "description": "",
            "_model_name": "HTMLModel",
            "placeholder": "​",
            "_view_module": "@jupyter-widgets/controls",
            "_model_module_version": "1.5.0",
            "value": "100%",
            "_view_count": null,
            "_view_module_version": "1.5.0",
            "description_tooltip": null,
            "_model_module": "@jupyter-widgets/controls",
            "layout": "IPY_MODEL_859352ae2c7246f7944b43bd8dec49fa"
          }
        },
        "2cad5706b0bf419da97864f8ddf39a8c": {
          "model_module": "@jupyter-widgets/controls",
          "model_name": "FloatProgressModel",
          "model_module_version": "1.5.0",
          "state": {
            "_view_name": "ProgressView",
            "style": "IPY_MODEL_748d40b27f3947fb91b25182d04041af",
            "_dom_classes": [],
            "description": "",
            "_model_name": "FloatProgressModel",
            "bar_style": "success",
            "max": 22,
            "_view_module": "@jupyter-widgets/controls",
            "_model_module_version": "1.5.0",
            "value": 22,
            "_view_count": null,
            "_view_module_version": "1.5.0",
            "orientation": "horizontal",
            "min": 0,
            "description_tooltip": null,
            "_model_module": "@jupyter-widgets/controls",
            "layout": "IPY_MODEL_a55ad0b197ad4ade9f0cb7a1e72819e4"
          }
        },
        "3ac0a246db8748ddaf6b7aa9a600d111": {
          "model_module": "@jupyter-widgets/controls",
          "model_name": "HTMLModel",
          "model_module_version": "1.5.0",
          "state": {
            "_view_name": "HTMLView",
            "style": "IPY_MODEL_c70bdaae178e48bf90e9fb75f18740fc",
            "_dom_classes": [],
            "description": "",
            "_model_name": "HTMLModel",
            "placeholder": "​",
            "_view_module": "@jupyter-widgets/controls",
            "_model_module_version": "1.5.0",
            "value": " 22/22 [00:00&lt;00:00, 407.32it/s]",
            "_view_count": null,
            "_view_module_version": "1.5.0",
            "description_tooltip": null,
            "_model_module": "@jupyter-widgets/controls",
            "layout": "IPY_MODEL_954b4643928b46ac9cd2c0b99b9a4f85"
          }
        },
        "43898b9859fa4d44b6642e0552401369": {
          "model_module": "@jupyter-widgets/controls",
          "model_name": "DescriptionStyleModel",
          "model_module_version": "1.5.0",
          "state": {
            "_view_name": "StyleView",
            "_model_name": "DescriptionStyleModel",
            "description_width": "",
            "_view_module": "@jupyter-widgets/base",
            "_model_module_version": "1.5.0",
            "_view_count": null,
            "_view_module_version": "1.2.0",
            "_model_module": "@jupyter-widgets/controls"
          }
        },
        "859352ae2c7246f7944b43bd8dec49fa": {
          "model_module": "@jupyter-widgets/base",
          "model_name": "LayoutModel",
          "model_module_version": "1.2.0",
          "state": {
            "_view_name": "LayoutView",
            "grid_template_rows": null,
            "right": null,
            "justify_content": null,
            "_view_module": "@jupyter-widgets/base",
            "overflow": null,
            "_model_module_version": "1.2.0",
            "_view_count": null,
            "flex_flow": null,
            "width": null,
            "min_width": null,
            "border": null,
            "align_items": null,
            "bottom": null,
            "_model_module": "@jupyter-widgets/base",
            "top": null,
            "grid_column": null,
            "overflow_y": null,
            "overflow_x": null,
            "grid_auto_flow": null,
            "grid_area": null,
            "grid_template_columns": null,
            "flex": null,
            "_model_name": "LayoutModel",
            "justify_items": null,
            "grid_row": null,
            "max_height": null,
            "align_content": null,
            "visibility": null,
            "align_self": null,
            "height": null,
            "min_height": null,
            "padding": null,
            "grid_auto_rows": null,
            "grid_gap": null,
            "max_width": null,
            "order": null,
            "_view_module_version": "1.2.0",
            "grid_template_areas": null,
            "object_position": null,
            "object_fit": null,
            "grid_auto_columns": null,
            "margin": null,
            "display": null,
            "left": null
          }
        },
        "748d40b27f3947fb91b25182d04041af": {
          "model_module": "@jupyter-widgets/controls",
          "model_name": "ProgressStyleModel",
          "model_module_version": "1.5.0",
          "state": {
            "_view_name": "StyleView",
            "_model_name": "ProgressStyleModel",
            "description_width": "",
            "_view_module": "@jupyter-widgets/base",
            "_model_module_version": "1.5.0",
            "_view_count": null,
            "_view_module_version": "1.2.0",
            "bar_color": null,
            "_model_module": "@jupyter-widgets/controls"
          }
        },
        "a55ad0b197ad4ade9f0cb7a1e72819e4": {
          "model_module": "@jupyter-widgets/base",
          "model_name": "LayoutModel",
          "model_module_version": "1.2.0",
          "state": {
            "_view_name": "LayoutView",
            "grid_template_rows": null,
            "right": null,
            "justify_content": null,
            "_view_module": "@jupyter-widgets/base",
            "overflow": null,
            "_model_module_version": "1.2.0",
            "_view_count": null,
            "flex_flow": null,
            "width": null,
            "min_width": null,
            "border": null,
            "align_items": null,
            "bottom": null,
            "_model_module": "@jupyter-widgets/base",
            "top": null,
            "grid_column": null,
            "overflow_y": null,
            "overflow_x": null,
            "grid_auto_flow": null,
            "grid_area": null,
            "grid_template_columns": null,
            "flex": null,
            "_model_name": "LayoutModel",
            "justify_items": null,
            "grid_row": null,
            "max_height": null,
            "align_content": null,
            "visibility": null,
            "align_self": null,
            "height": null,
            "min_height": null,
            "padding": null,
            "grid_auto_rows": null,
            "grid_gap": null,
            "max_width": null,
            "order": null,
            "_view_module_version": "1.2.0",
            "grid_template_areas": null,
            "object_position": null,
            "object_fit": null,
            "grid_auto_columns": null,
            "margin": null,
            "display": null,
            "left": null
          }
        },
        "c70bdaae178e48bf90e9fb75f18740fc": {
          "model_module": "@jupyter-widgets/controls",
          "model_name": "DescriptionStyleModel",
          "model_module_version": "1.5.0",
          "state": {
            "_view_name": "StyleView",
            "_model_name": "DescriptionStyleModel",
            "description_width": "",
            "_view_module": "@jupyter-widgets/base",
            "_model_module_version": "1.5.0",
            "_view_count": null,
            "_view_module_version": "1.2.0",
            "_model_module": "@jupyter-widgets/controls"
          }
        },
        "954b4643928b46ac9cd2c0b99b9a4f85": {
          "model_module": "@jupyter-widgets/base",
          "model_name": "LayoutModel",
          "model_module_version": "1.2.0",
          "state": {
            "_view_name": "LayoutView",
            "grid_template_rows": null,
            "right": null,
            "justify_content": null,
            "_view_module": "@jupyter-widgets/base",
            "overflow": null,
            "_model_module_version": "1.2.0",
            "_view_count": null,
            "flex_flow": null,
            "width": null,
            "min_width": null,
            "border": null,
            "align_items": null,
            "bottom": null,
            "_model_module": "@jupyter-widgets/base",
            "top": null,
            "grid_column": null,
            "overflow_y": null,
            "overflow_x": null,
            "grid_auto_flow": null,
            "grid_area": null,
            "grid_template_columns": null,
            "flex": null,
            "_model_name": "LayoutModel",
            "justify_items": null,
            "grid_row": null,
            "max_height": null,
            "align_content": null,
            "visibility": null,
            "align_self": null,
            "height": null,
            "min_height": null,
            "padding": null,
            "grid_auto_rows": null,
            "grid_gap": null,
            "max_width": null,
            "order": null,
            "_view_module_version": "1.2.0",
            "grid_template_areas": null,
            "object_position": null,
            "object_fit": null,
            "grid_auto_columns": null,
            "margin": null,
            "display": null,
            "left": null
          }
        },
        "b5a92da48a2b4a648f75abdb04927817": {
          "model_module": "@jupyter-widgets/controls",
          "model_name": "HBoxModel",
          "model_module_version": "1.5.0",
          "state": {
            "_view_name": "HBoxView",
            "_dom_classes": [],
            "_model_name": "HBoxModel",
            "_view_module": "@jupyter-widgets/controls",
            "_model_module_version": "1.5.0",
            "_view_count": null,
            "_view_module_version": "1.5.0",
            "box_style": "",
            "layout": "IPY_MODEL_866e07eddde1457e811e7b673e30926d",
            "_model_module": "@jupyter-widgets/controls",
            "children": [
              "IPY_MODEL_8379d9509a9f486ab9fdf7161f1ccd19",
              "IPY_MODEL_ad0fd5803d7e45ff92c8915dac8a8f1f",
              "IPY_MODEL_f01604aba534401796ba9636b7317b2f"
            ]
          }
        },
        "866e07eddde1457e811e7b673e30926d": {
          "model_module": "@jupyter-widgets/base",
          "model_name": "LayoutModel",
          "model_module_version": "1.2.0",
          "state": {
            "_view_name": "LayoutView",
            "grid_template_rows": null,
            "right": null,
            "justify_content": null,
            "_view_module": "@jupyter-widgets/base",
            "overflow": null,
            "_model_module_version": "1.2.0",
            "_view_count": null,
            "flex_flow": null,
            "width": null,
            "min_width": null,
            "border": null,
            "align_items": null,
            "bottom": null,
            "_model_module": "@jupyter-widgets/base",
            "top": null,
            "grid_column": null,
            "overflow_y": null,
            "overflow_x": null,
            "grid_auto_flow": null,
            "grid_area": null,
            "grid_template_columns": null,
            "flex": null,
            "_model_name": "LayoutModel",
            "justify_items": null,
            "grid_row": null,
            "max_height": null,
            "align_content": null,
            "visibility": null,
            "align_self": null,
            "height": null,
            "min_height": null,
            "padding": null,
            "grid_auto_rows": null,
            "grid_gap": null,
            "max_width": null,
            "order": null,
            "_view_module_version": "1.2.0",
            "grid_template_areas": null,
            "object_position": null,
            "object_fit": null,
            "grid_auto_columns": null,
            "margin": null,
            "display": null,
            "left": null
          }
        },
        "8379d9509a9f486ab9fdf7161f1ccd19": {
          "model_module": "@jupyter-widgets/controls",
          "model_name": "HTMLModel",
          "model_module_version": "1.5.0",
          "state": {
            "_view_name": "HTMLView",
            "style": "IPY_MODEL_1c4b6914c0c54e048d2db971ec3ab758",
            "_dom_classes": [],
            "description": "",
            "_model_name": "HTMLModel",
            "placeholder": "​",
            "_view_module": "@jupyter-widgets/controls",
            "_model_module_version": "1.5.0",
            "value": "",
            "_view_count": null,
            "_view_module_version": "1.5.0",
            "description_tooltip": null,
            "_model_module": "@jupyter-widgets/controls",
            "layout": "IPY_MODEL_16eb534a507c42d0ad9e3f199023b52a"
          }
        },
        "ad0fd5803d7e45ff92c8915dac8a8f1f": {
          "model_module": "@jupyter-widgets/controls",
          "model_name": "FloatProgressModel",
          "model_module_version": "1.5.0",
          "state": {
            "_view_name": "ProgressView",
            "style": "IPY_MODEL_cb57d6f547654f1b8abb22526dd0eaa6",
            "_dom_classes": [],
            "description": "",
            "_model_name": "FloatProgressModel",
            "bar_style": "info",
            "max": 1,
            "_view_module": "@jupyter-widgets/controls",
            "_model_module_version": "1.5.0",
            "value": 1,
            "_view_count": null,
            "_view_module_version": "1.5.0",
            "orientation": "horizontal",
            "min": 0,
            "description_tooltip": null,
            "_model_module": "@jupyter-widgets/controls",
            "layout": "IPY_MODEL_d2e833822fd344049e68679d8303fce5"
          }
        },
        "f01604aba534401796ba9636b7317b2f": {
          "model_module": "@jupyter-widgets/controls",
          "model_name": "HTMLModel",
          "model_module_version": "1.5.0",
          "state": {
            "_view_name": "HTMLView",
            "style": "IPY_MODEL_517e7efc83544055b2d7663924924256",
            "_dom_classes": [],
            "description": "",
            "_model_name": "HTMLModel",
            "placeholder": "​",
            "_view_module": "@jupyter-widgets/controls",
            "_model_module_version": "1.5.0",
            "value": " 8410/0 [00:24&lt;00:00, 483.29 examples/s]",
            "_view_count": null,
            "_view_module_version": "1.5.0",
            "description_tooltip": null,
            "_model_module": "@jupyter-widgets/controls",
            "layout": "IPY_MODEL_b2532158512847fabc9fe0c56abc4047"
          }
        },
        "1c4b6914c0c54e048d2db971ec3ab758": {
          "model_module": "@jupyter-widgets/controls",
          "model_name": "DescriptionStyleModel",
          "model_module_version": "1.5.0",
          "state": {
            "_view_name": "StyleView",
            "_model_name": "DescriptionStyleModel",
            "description_width": "",
            "_view_module": "@jupyter-widgets/base",
            "_model_module_version": "1.5.0",
            "_view_count": null,
            "_view_module_version": "1.2.0",
            "_model_module": "@jupyter-widgets/controls"
          }
        },
        "16eb534a507c42d0ad9e3f199023b52a": {
          "model_module": "@jupyter-widgets/base",
          "model_name": "LayoutModel",
          "model_module_version": "1.2.0",
          "state": {
            "_view_name": "LayoutView",
            "grid_template_rows": null,
            "right": null,
            "justify_content": null,
            "_view_module": "@jupyter-widgets/base",
            "overflow": null,
            "_model_module_version": "1.2.0",
            "_view_count": null,
            "flex_flow": null,
            "width": null,
            "min_width": null,
            "border": null,
            "align_items": null,
            "bottom": null,
            "_model_module": "@jupyter-widgets/base",
            "top": null,
            "grid_column": null,
            "overflow_y": null,
            "overflow_x": null,
            "grid_auto_flow": null,
            "grid_area": null,
            "grid_template_columns": null,
            "flex": null,
            "_model_name": "LayoutModel",
            "justify_items": null,
            "grid_row": null,
            "max_height": null,
            "align_content": null,
            "visibility": null,
            "align_self": null,
            "height": null,
            "min_height": null,
            "padding": null,
            "grid_auto_rows": null,
            "grid_gap": null,
            "max_width": null,
            "order": null,
            "_view_module_version": "1.2.0",
            "grid_template_areas": null,
            "object_position": null,
            "object_fit": null,
            "grid_auto_columns": null,
            "margin": null,
            "display": null,
            "left": null
          }
        },
        "cb57d6f547654f1b8abb22526dd0eaa6": {
          "model_module": "@jupyter-widgets/controls",
          "model_name": "ProgressStyleModel",
          "model_module_version": "1.5.0",
          "state": {
            "_view_name": "StyleView",
            "_model_name": "ProgressStyleModel",
            "description_width": "",
            "_view_module": "@jupyter-widgets/base",
            "_model_module_version": "1.5.0",
            "_view_count": null,
            "_view_module_version": "1.2.0",
            "bar_color": null,
            "_model_module": "@jupyter-widgets/controls"
          }
        },
        "d2e833822fd344049e68679d8303fce5": {
          "model_module": "@jupyter-widgets/base",
          "model_name": "LayoutModel",
          "model_module_version": "1.2.0",
          "state": {
            "_view_name": "LayoutView",
            "grid_template_rows": null,
            "right": null,
            "justify_content": null,
            "_view_module": "@jupyter-widgets/base",
            "overflow": null,
            "_model_module_version": "1.2.0",
            "_view_count": null,
            "flex_flow": null,
            "width": "20px",
            "min_width": null,
            "border": null,
            "align_items": null,
            "bottom": null,
            "_model_module": "@jupyter-widgets/base",
            "top": null,
            "grid_column": null,
            "overflow_y": null,
            "overflow_x": null,
            "grid_auto_flow": null,
            "grid_area": null,
            "grid_template_columns": null,
            "flex": null,
            "_model_name": "LayoutModel",
            "justify_items": null,
            "grid_row": null,
            "max_height": null,
            "align_content": null,
            "visibility": null,
            "align_self": null,
            "height": null,
            "min_height": null,
            "padding": null,
            "grid_auto_rows": null,
            "grid_gap": null,
            "max_width": null,
            "order": null,
            "_view_module_version": "1.2.0",
            "grid_template_areas": null,
            "object_position": null,
            "object_fit": null,
            "grid_auto_columns": null,
            "margin": null,
            "display": null,
            "left": null
          }
        },
        "517e7efc83544055b2d7663924924256": {
          "model_module": "@jupyter-widgets/controls",
          "model_name": "DescriptionStyleModel",
          "model_module_version": "1.5.0",
          "state": {
            "_view_name": "StyleView",
            "_model_name": "DescriptionStyleModel",
            "description_width": "",
            "_view_module": "@jupyter-widgets/base",
            "_model_module_version": "1.5.0",
            "_view_count": null,
            "_view_module_version": "1.2.0",
            "_model_module": "@jupyter-widgets/controls"
          }
        },
        "b2532158512847fabc9fe0c56abc4047": {
          "model_module": "@jupyter-widgets/base",
          "model_name": "LayoutModel",
          "model_module_version": "1.2.0",
          "state": {
            "_view_name": "LayoutView",
            "grid_template_rows": null,
            "right": null,
            "justify_content": null,
            "_view_module": "@jupyter-widgets/base",
            "overflow": null,
            "_model_module_version": "1.2.0",
            "_view_count": null,
            "flex_flow": null,
            "width": null,
            "min_width": null,
            "border": null,
            "align_items": null,
            "bottom": null,
            "_model_module": "@jupyter-widgets/base",
            "top": null,
            "grid_column": null,
            "overflow_y": null,
            "overflow_x": null,
            "grid_auto_flow": null,
            "grid_area": null,
            "grid_template_columns": null,
            "flex": null,
            "_model_name": "LayoutModel",
            "justify_items": null,
            "grid_row": null,
            "max_height": null,
            "align_content": null,
            "visibility": null,
            "align_self": null,
            "height": null,
            "min_height": null,
            "padding": null,
            "grid_auto_rows": null,
            "grid_gap": null,
            "max_width": null,
            "order": null,
            "_view_module_version": "1.2.0",
            "grid_template_areas": null,
            "object_position": null,
            "object_fit": null,
            "grid_auto_columns": null,
            "margin": null,
            "display": null,
            "left": null
          }
        },
        "915a0bccff32454b82402693a1b3340b": {
          "model_module": "@jupyter-widgets/controls",
          "model_name": "HBoxModel",
          "model_module_version": "1.5.0",
          "state": {
            "_view_name": "HBoxView",
            "_dom_classes": [],
            "_model_name": "HBoxModel",
            "_view_module": "@jupyter-widgets/controls",
            "_model_module_version": "1.5.0",
            "_view_count": null,
            "_view_module_version": "1.5.0",
            "box_style": "",
            "layout": "IPY_MODEL_f9fe8eb61b844bb6aa4fa7ccbee767cc",
            "_model_module": "@jupyter-widgets/controls",
            "children": [
              "IPY_MODEL_0dadcc3293d144128b0e472124b919aa",
              "IPY_MODEL_747507f573e84493aee7fa7a9fe7bffb",
              "IPY_MODEL_cfc325614475411690fe1738e842823d"
            ]
          }
        },
        "f9fe8eb61b844bb6aa4fa7ccbee767cc": {
          "model_module": "@jupyter-widgets/base",
          "model_name": "LayoutModel",
          "model_module_version": "1.2.0",
          "state": {
            "_view_name": "LayoutView",
            "grid_template_rows": null,
            "right": null,
            "justify_content": null,
            "_view_module": "@jupyter-widgets/base",
            "overflow": null,
            "_model_module_version": "1.2.0",
            "_view_count": null,
            "flex_flow": null,
            "width": null,
            "min_width": null,
            "border": null,
            "align_items": null,
            "bottom": null,
            "_model_module": "@jupyter-widgets/base",
            "top": null,
            "grid_column": null,
            "overflow_y": null,
            "overflow_x": null,
            "grid_auto_flow": null,
            "grid_area": null,
            "grid_template_columns": null,
            "flex": null,
            "_model_name": "LayoutModel",
            "justify_items": null,
            "grid_row": null,
            "max_height": null,
            "align_content": null,
            "visibility": null,
            "align_self": null,
            "height": null,
            "min_height": null,
            "padding": null,
            "grid_auto_rows": null,
            "grid_gap": null,
            "max_width": null,
            "order": null,
            "_view_module_version": "1.2.0",
            "grid_template_areas": null,
            "object_position": null,
            "object_fit": null,
            "grid_auto_columns": null,
            "margin": null,
            "display": null,
            "left": null
          }
        },
        "0dadcc3293d144128b0e472124b919aa": {
          "model_module": "@jupyter-widgets/controls",
          "model_name": "HTMLModel",
          "model_module_version": "1.5.0",
          "state": {
            "_view_name": "HTMLView",
            "style": "IPY_MODEL_29f49c71dcc94b02aab794fc340d95ac",
            "_dom_classes": [],
            "description": "",
            "_model_name": "HTMLModel",
            "placeholder": "​",
            "_view_module": "@jupyter-widgets/controls",
            "_model_module_version": "1.5.0",
            "value": "",
            "_view_count": null,
            "_view_module_version": "1.5.0",
            "description_tooltip": null,
            "_model_module": "@jupyter-widgets/controls",
            "layout": "IPY_MODEL_808445827be444479bc17579128039a3"
          }
        },
        "747507f573e84493aee7fa7a9fe7bffb": {
          "model_module": "@jupyter-widgets/controls",
          "model_name": "FloatProgressModel",
          "model_module_version": "1.5.0",
          "state": {
            "_view_name": "ProgressView",
            "style": "IPY_MODEL_83a8aa0ea5ef49ddb0ebc8cad030366f",
            "_dom_classes": [],
            "description": "",
            "_model_name": "FloatProgressModel",
            "bar_style": "info",
            "max": 1,
            "_view_module": "@jupyter-widgets/controls",
            "_model_module_version": "1.5.0",
            "value": 1,
            "_view_count": null,
            "_view_module_version": "1.5.0",
            "orientation": "horizontal",
            "min": 0,
            "description_tooltip": null,
            "_model_module": "@jupyter-widgets/controls",
            "layout": "IPY_MODEL_a63c57d39aaf46f18dbde035cf2960e4"
          }
        },
        "cfc325614475411690fe1738e842823d": {
          "model_module": "@jupyter-widgets/controls",
          "model_name": "HTMLModel",
          "model_module_version": "1.5.0",
          "state": {
            "_view_name": "HTMLView",
            "style": "IPY_MODEL_7e69f70d9cf6453283d83fe34ce0dae9",
            "_dom_classes": [],
            "description": "",
            "_model_name": "HTMLModel",
            "placeholder": "​",
            "_view_module": "@jupyter-widgets/controls",
            "_model_module_version": "1.5.0",
            "value": " 960/0 [00:02&lt;00:00, 449.11 examples/s]",
            "_view_count": null,
            "_view_module_version": "1.5.0",
            "description_tooltip": null,
            "_model_module": "@jupyter-widgets/controls",
            "layout": "IPY_MODEL_ebcd718eb8704eb9acebec0e164341f0"
          }
        },
        "29f49c71dcc94b02aab794fc340d95ac": {
          "model_module": "@jupyter-widgets/controls",
          "model_name": "DescriptionStyleModel",
          "model_module_version": "1.5.0",
          "state": {
            "_view_name": "StyleView",
            "_model_name": "DescriptionStyleModel",
            "description_width": "",
            "_view_module": "@jupyter-widgets/base",
            "_model_module_version": "1.5.0",
            "_view_count": null,
            "_view_module_version": "1.2.0",
            "_model_module": "@jupyter-widgets/controls"
          }
        },
        "808445827be444479bc17579128039a3": {
          "model_module": "@jupyter-widgets/base",
          "model_name": "LayoutModel",
          "model_module_version": "1.2.0",
          "state": {
            "_view_name": "LayoutView",
            "grid_template_rows": null,
            "right": null,
            "justify_content": null,
            "_view_module": "@jupyter-widgets/base",
            "overflow": null,
            "_model_module_version": "1.2.0",
            "_view_count": null,
            "flex_flow": null,
            "width": null,
            "min_width": null,
            "border": null,
            "align_items": null,
            "bottom": null,
            "_model_module": "@jupyter-widgets/base",
            "top": null,
            "grid_column": null,
            "overflow_y": null,
            "overflow_x": null,
            "grid_auto_flow": null,
            "grid_area": null,
            "grid_template_columns": null,
            "flex": null,
            "_model_name": "LayoutModel",
            "justify_items": null,
            "grid_row": null,
            "max_height": null,
            "align_content": null,
            "visibility": null,
            "align_self": null,
            "height": null,
            "min_height": null,
            "padding": null,
            "grid_auto_rows": null,
            "grid_gap": null,
            "max_width": null,
            "order": null,
            "_view_module_version": "1.2.0",
            "grid_template_areas": null,
            "object_position": null,
            "object_fit": null,
            "grid_auto_columns": null,
            "margin": null,
            "display": null,
            "left": null
          }
        },
        "83a8aa0ea5ef49ddb0ebc8cad030366f": {
          "model_module": "@jupyter-widgets/controls",
          "model_name": "ProgressStyleModel",
          "model_module_version": "1.5.0",
          "state": {
            "_view_name": "StyleView",
            "_model_name": "ProgressStyleModel",
            "description_width": "",
            "_view_module": "@jupyter-widgets/base",
            "_model_module_version": "1.5.0",
            "_view_count": null,
            "_view_module_version": "1.2.0",
            "bar_color": null,
            "_model_module": "@jupyter-widgets/controls"
          }
        },
        "a63c57d39aaf46f18dbde035cf2960e4": {
          "model_module": "@jupyter-widgets/base",
          "model_name": "LayoutModel",
          "model_module_version": "1.2.0",
          "state": {
            "_view_name": "LayoutView",
            "grid_template_rows": null,
            "right": null,
            "justify_content": null,
            "_view_module": "@jupyter-widgets/base",
            "overflow": null,
            "_model_module_version": "1.2.0",
            "_view_count": null,
            "flex_flow": null,
            "width": "20px",
            "min_width": null,
            "border": null,
            "align_items": null,
            "bottom": null,
            "_model_module": "@jupyter-widgets/base",
            "top": null,
            "grid_column": null,
            "overflow_y": null,
            "overflow_x": null,
            "grid_auto_flow": null,
            "grid_area": null,
            "grid_template_columns": null,
            "flex": null,
            "_model_name": "LayoutModel",
            "justify_items": null,
            "grid_row": null,
            "max_height": null,
            "align_content": null,
            "visibility": null,
            "align_self": null,
            "height": null,
            "min_height": null,
            "padding": null,
            "grid_auto_rows": null,
            "grid_gap": null,
            "max_width": null,
            "order": null,
            "_view_module_version": "1.2.0",
            "grid_template_areas": null,
            "object_position": null,
            "object_fit": null,
            "grid_auto_columns": null,
            "margin": null,
            "display": null,
            "left": null
          }
        },
        "7e69f70d9cf6453283d83fe34ce0dae9": {
          "model_module": "@jupyter-widgets/controls",
          "model_name": "DescriptionStyleModel",
          "model_module_version": "1.5.0",
          "state": {
            "_view_name": "StyleView",
            "_model_name": "DescriptionStyleModel",
            "description_width": "",
            "_view_module": "@jupyter-widgets/base",
            "_model_module_version": "1.5.0",
            "_view_count": null,
            "_view_module_version": "1.2.0",
            "_model_module": "@jupyter-widgets/controls"
          }
        },
        "ebcd718eb8704eb9acebec0e164341f0": {
          "model_module": "@jupyter-widgets/base",
          "model_name": "LayoutModel",
          "model_module_version": "1.2.0",
          "state": {
            "_view_name": "LayoutView",
            "grid_template_rows": null,
            "right": null,
            "justify_content": null,
            "_view_module": "@jupyter-widgets/base",
            "overflow": null,
            "_model_module_version": "1.2.0",
            "_view_count": null,
            "flex_flow": null,
            "width": null,
            "min_width": null,
            "border": null,
            "align_items": null,
            "bottom": null,
            "_model_module": "@jupyter-widgets/base",
            "top": null,
            "grid_column": null,
            "overflow_y": null,
            "overflow_x": null,
            "grid_auto_flow": null,
            "grid_area": null,
            "grid_template_columns": null,
            "flex": null,
            "_model_name": "LayoutModel",
            "justify_items": null,
            "grid_row": null,
            "max_height": null,
            "align_content": null,
            "visibility": null,
            "align_self": null,
            "height": null,
            "min_height": null,
            "padding": null,
            "grid_auto_rows": null,
            "grid_gap": null,
            "max_width": null,
            "order": null,
            "_view_module_version": "1.2.0",
            "grid_template_areas": null,
            "object_position": null,
            "object_fit": null,
            "grid_auto_columns": null,
            "margin": null,
            "display": null,
            "left": null
          }
        },
        "553882e005544a208e3a3d67366dd52c": {
          "model_module": "@jupyter-widgets/controls",
          "model_name": "HBoxModel",
          "model_module_version": "1.5.0",
          "state": {
            "_view_name": "HBoxView",
            "_dom_classes": [],
            "_model_name": "HBoxModel",
            "_view_module": "@jupyter-widgets/controls",
            "_model_module_version": "1.5.0",
            "_view_count": null,
            "_view_module_version": "1.5.0",
            "box_style": "",
            "layout": "IPY_MODEL_dede6bcffee349a49e378b8888a3b3f8",
            "_model_module": "@jupyter-widgets/controls",
            "children": [
              "IPY_MODEL_e84eae9e06a148428a84756a000dba4d",
              "IPY_MODEL_d372053c7abe407c9ca4ef9c1a327f12",
              "IPY_MODEL_65eb3ee2cb12471d9a37220725992d29"
            ]
          }
        },
        "dede6bcffee349a49e378b8888a3b3f8": {
          "model_module": "@jupyter-widgets/base",
          "model_name": "LayoutModel",
          "model_module_version": "1.2.0",
          "state": {
            "_view_name": "LayoutView",
            "grid_template_rows": null,
            "right": null,
            "justify_content": null,
            "_view_module": "@jupyter-widgets/base",
            "overflow": null,
            "_model_module_version": "1.2.0",
            "_view_count": null,
            "flex_flow": null,
            "width": null,
            "min_width": null,
            "border": null,
            "align_items": null,
            "bottom": null,
            "_model_module": "@jupyter-widgets/base",
            "top": null,
            "grid_column": null,
            "overflow_y": null,
            "overflow_x": null,
            "grid_auto_flow": null,
            "grid_area": null,
            "grid_template_columns": null,
            "flex": null,
            "_model_name": "LayoutModel",
            "justify_items": null,
            "grid_row": null,
            "max_height": null,
            "align_content": null,
            "visibility": null,
            "align_self": null,
            "height": null,
            "min_height": null,
            "padding": null,
            "grid_auto_rows": null,
            "grid_gap": null,
            "max_width": null,
            "order": null,
            "_view_module_version": "1.2.0",
            "grid_template_areas": null,
            "object_position": null,
            "object_fit": null,
            "grid_auto_columns": null,
            "margin": null,
            "display": null,
            "left": null
          }
        },
        "e84eae9e06a148428a84756a000dba4d": {
          "model_module": "@jupyter-widgets/controls",
          "model_name": "HTMLModel",
          "model_module_version": "1.5.0",
          "state": {
            "_view_name": "HTMLView",
            "style": "IPY_MODEL_a7e92ee223264006b2f2f7fe855b4da9",
            "_dom_classes": [],
            "description": "",
            "_model_name": "HTMLModel",
            "placeholder": "​",
            "_view_module": "@jupyter-widgets/controls",
            "_model_module_version": "1.5.0",
            "value": "",
            "_view_count": null,
            "_view_module_version": "1.5.0",
            "description_tooltip": null,
            "_model_module": "@jupyter-widgets/controls",
            "layout": "IPY_MODEL_a34df450866e4049ba3a69940afbb2e3"
          }
        },
        "d372053c7abe407c9ca4ef9c1a327f12": {
          "model_module": "@jupyter-widgets/controls",
          "model_name": "FloatProgressModel",
          "model_module_version": "1.5.0",
          "state": {
            "_view_name": "ProgressView",
            "style": "IPY_MODEL_a0749c5cd475419287ba2e2f5a791a63",
            "_dom_classes": [],
            "description": "",
            "_model_name": "FloatProgressModel",
            "bar_style": "info",
            "max": 1,
            "_view_module": "@jupyter-widgets/controls",
            "_model_module_version": "1.5.0",
            "value": 1,
            "_view_count": null,
            "_view_module_version": "1.5.0",
            "orientation": "horizontal",
            "min": 0,
            "description_tooltip": null,
            "_model_module": "@jupyter-widgets/controls",
            "layout": "IPY_MODEL_274da6b42f4844e78c17b4b03c2444e6"
          }
        },
        "65eb3ee2cb12471d9a37220725992d29": {
          "model_module": "@jupyter-widgets/controls",
          "model_name": "HTMLModel",
          "model_module_version": "1.5.0",
          "state": {
            "_view_name": "HTMLView",
            "style": "IPY_MODEL_6574a3951dcf46b3bdf77a6090f33330",
            "_dom_classes": [],
            "description": "",
            "_model_name": "HTMLModel",
            "placeholder": "​",
            "_view_module": "@jupyter-widgets/controls",
            "_model_module_version": "1.5.0",
            "value": " 999/0 [00:03&lt;00:00, 434.47 examples/s]",
            "_view_count": null,
            "_view_module_version": "1.5.0",
            "description_tooltip": null,
            "_model_module": "@jupyter-widgets/controls",
            "layout": "IPY_MODEL_81456f2303304718988973d8811b8060"
          }
        },
        "a7e92ee223264006b2f2f7fe855b4da9": {
          "model_module": "@jupyter-widgets/controls",
          "model_name": "DescriptionStyleModel",
          "model_module_version": "1.5.0",
          "state": {
            "_view_name": "StyleView",
            "_model_name": "DescriptionStyleModel",
            "description_width": "",
            "_view_module": "@jupyter-widgets/base",
            "_model_module_version": "1.5.0",
            "_view_count": null,
            "_view_module_version": "1.2.0",
            "_model_module": "@jupyter-widgets/controls"
          }
        },
        "a34df450866e4049ba3a69940afbb2e3": {
          "model_module": "@jupyter-widgets/base",
          "model_name": "LayoutModel",
          "model_module_version": "1.2.0",
          "state": {
            "_view_name": "LayoutView",
            "grid_template_rows": null,
            "right": null,
            "justify_content": null,
            "_view_module": "@jupyter-widgets/base",
            "overflow": null,
            "_model_module_version": "1.2.0",
            "_view_count": null,
            "flex_flow": null,
            "width": null,
            "min_width": null,
            "border": null,
            "align_items": null,
            "bottom": null,
            "_model_module": "@jupyter-widgets/base",
            "top": null,
            "grid_column": null,
            "overflow_y": null,
            "overflow_x": null,
            "grid_auto_flow": null,
            "grid_area": null,
            "grid_template_columns": null,
            "flex": null,
            "_model_name": "LayoutModel",
            "justify_items": null,
            "grid_row": null,
            "max_height": null,
            "align_content": null,
            "visibility": null,
            "align_self": null,
            "height": null,
            "min_height": null,
            "padding": null,
            "grid_auto_rows": null,
            "grid_gap": null,
            "max_width": null,
            "order": null,
            "_view_module_version": "1.2.0",
            "grid_template_areas": null,
            "object_position": null,
            "object_fit": null,
            "grid_auto_columns": null,
            "margin": null,
            "display": null,
            "left": null
          }
        },
        "a0749c5cd475419287ba2e2f5a791a63": {
          "model_module": "@jupyter-widgets/controls",
          "model_name": "ProgressStyleModel",
          "model_module_version": "1.5.0",
          "state": {
            "_view_name": "StyleView",
            "_model_name": "ProgressStyleModel",
            "description_width": "",
            "_view_module": "@jupyter-widgets/base",
            "_model_module_version": "1.5.0",
            "_view_count": null,
            "_view_module_version": "1.2.0",
            "bar_color": null,
            "_model_module": "@jupyter-widgets/controls"
          }
        },
        "274da6b42f4844e78c17b4b03c2444e6": {
          "model_module": "@jupyter-widgets/base",
          "model_name": "LayoutModel",
          "model_module_version": "1.2.0",
          "state": {
            "_view_name": "LayoutView",
            "grid_template_rows": null,
            "right": null,
            "justify_content": null,
            "_view_module": "@jupyter-widgets/base",
            "overflow": null,
            "_model_module_version": "1.2.0",
            "_view_count": null,
            "flex_flow": null,
            "width": "20px",
            "min_width": null,
            "border": null,
            "align_items": null,
            "bottom": null,
            "_model_module": "@jupyter-widgets/base",
            "top": null,
            "grid_column": null,
            "overflow_y": null,
            "overflow_x": null,
            "grid_auto_flow": null,
            "grid_area": null,
            "grid_template_columns": null,
            "flex": null,
            "_model_name": "LayoutModel",
            "justify_items": null,
            "grid_row": null,
            "max_height": null,
            "align_content": null,
            "visibility": null,
            "align_self": null,
            "height": null,
            "min_height": null,
            "padding": null,
            "grid_auto_rows": null,
            "grid_gap": null,
            "max_width": null,
            "order": null,
            "_view_module_version": "1.2.0",
            "grid_template_areas": null,
            "object_position": null,
            "object_fit": null,
            "grid_auto_columns": null,
            "margin": null,
            "display": null,
            "left": null
          }
        },
        "6574a3951dcf46b3bdf77a6090f33330": {
          "model_module": "@jupyter-widgets/controls",
          "model_name": "DescriptionStyleModel",
          "model_module_version": "1.5.0",
          "state": {
            "_view_name": "StyleView",
            "_model_name": "DescriptionStyleModel",
            "description_width": "",
            "_view_module": "@jupyter-widgets/base",
            "_model_module_version": "1.5.0",
            "_view_count": null,
            "_view_module_version": "1.2.0",
            "_model_module": "@jupyter-widgets/controls"
          }
        },
        "81456f2303304718988973d8811b8060": {
          "model_module": "@jupyter-widgets/base",
          "model_name": "LayoutModel",
          "model_module_version": "1.2.0",
          "state": {
            "_view_name": "LayoutView",
            "grid_template_rows": null,
            "right": null,
            "justify_content": null,
            "_view_module": "@jupyter-widgets/base",
            "overflow": null,
            "_model_module_version": "1.2.0",
            "_view_count": null,
            "flex_flow": null,
            "width": null,
            "min_width": null,
            "border": null,
            "align_items": null,
            "bottom": null,
            "_model_module": "@jupyter-widgets/base",
            "top": null,
            "grid_column": null,
            "overflow_y": null,
            "overflow_x": null,
            "grid_auto_flow": null,
            "grid_area": null,
            "grid_template_columns": null,
            "flex": null,
            "_model_name": "LayoutModel",
            "justify_items": null,
            "grid_row": null,
            "max_height": null,
            "align_content": null,
            "visibility": null,
            "align_self": null,
            "height": null,
            "min_height": null,
            "padding": null,
            "grid_auto_rows": null,
            "grid_gap": null,
            "max_width": null,
            "order": null,
            "_view_module_version": "1.2.0",
            "grid_template_areas": null,
            "object_position": null,
            "object_fit": null,
            "grid_auto_columns": null,
            "margin": null,
            "display": null,
            "left": null
          }
        },
        "de65a7fd83e848549cfca5d61aba8dd0": {
          "model_module": "@jupyter-widgets/controls",
          "model_name": "HBoxModel",
          "model_module_version": "1.5.0",
          "state": {
            "_view_name": "HBoxView",
            "_dom_classes": [],
            "_model_name": "HBoxModel",
            "_view_module": "@jupyter-widgets/controls",
            "_model_module_version": "1.5.0",
            "_view_count": null,
            "_view_module_version": "1.5.0",
            "box_style": "",
            "layout": "IPY_MODEL_31c9fb93104047f69c7ef4bd0569f060",
            "_model_module": "@jupyter-widgets/controls",
            "children": [
              "IPY_MODEL_0ee85aa5773148fca3a2c4238dbbd917",
              "IPY_MODEL_a5913557af224464b47b2bb3d216d07f",
              "IPY_MODEL_1cf939d4f65447e5a7e296b851b664df"
            ]
          }
        },
        "31c9fb93104047f69c7ef4bd0569f060": {
          "model_module": "@jupyter-widgets/base",
          "model_name": "LayoutModel",
          "model_module_version": "1.2.0",
          "state": {
            "_view_name": "LayoutView",
            "grid_template_rows": null,
            "right": null,
            "justify_content": null,
            "_view_module": "@jupyter-widgets/base",
            "overflow": null,
            "_model_module_version": "1.2.0",
            "_view_count": null,
            "flex_flow": null,
            "width": null,
            "min_width": null,
            "border": null,
            "align_items": null,
            "bottom": null,
            "_model_module": "@jupyter-widgets/base",
            "top": null,
            "grid_column": null,
            "overflow_y": null,
            "overflow_x": null,
            "grid_auto_flow": null,
            "grid_area": null,
            "grid_template_columns": null,
            "flex": null,
            "_model_name": "LayoutModel",
            "justify_items": null,
            "grid_row": null,
            "max_height": null,
            "align_content": null,
            "visibility": null,
            "align_self": null,
            "height": null,
            "min_height": null,
            "padding": null,
            "grid_auto_rows": null,
            "grid_gap": null,
            "max_width": null,
            "order": null,
            "_view_module_version": "1.2.0",
            "grid_template_areas": null,
            "object_position": null,
            "object_fit": null,
            "grid_auto_columns": null,
            "margin": null,
            "display": null,
            "left": null
          }
        },
        "0ee85aa5773148fca3a2c4238dbbd917": {
          "model_module": "@jupyter-widgets/controls",
          "model_name": "HTMLModel",
          "model_module_version": "1.5.0",
          "state": {
            "_view_name": "HTMLView",
            "style": "IPY_MODEL_6fde2b73f0b84a0a9f993ee16c22fced",
            "_dom_classes": [],
            "description": "",
            "_model_name": "HTMLModel",
            "placeholder": "​",
            "_view_module": "@jupyter-widgets/controls",
            "_model_module_version": "1.5.0",
            "value": "100%",
            "_view_count": null,
            "_view_module_version": "1.5.0",
            "description_tooltip": null,
            "_model_module": "@jupyter-widgets/controls",
            "layout": "IPY_MODEL_44c0f3e6c98f45359016b61bb7a035e1"
          }
        },
        "a5913557af224464b47b2bb3d216d07f": {
          "model_module": "@jupyter-widgets/controls",
          "model_name": "FloatProgressModel",
          "model_module_version": "1.5.0",
          "state": {
            "_view_name": "ProgressView",
            "style": "IPY_MODEL_e341137e90e049c482c188a02fc1d73a",
            "_dom_classes": [],
            "description": "",
            "_model_name": "FloatProgressModel",
            "bar_style": "success",
            "max": 3,
            "_view_module": "@jupyter-widgets/controls",
            "_model_module_version": "1.5.0",
            "value": 3,
            "_view_count": null,
            "_view_module_version": "1.5.0",
            "orientation": "horizontal",
            "min": 0,
            "description_tooltip": null,
            "_model_module": "@jupyter-widgets/controls",
            "layout": "IPY_MODEL_58594a5f98784c59b81f758f617d8e35"
          }
        },
        "1cf939d4f65447e5a7e296b851b664df": {
          "model_module": "@jupyter-widgets/controls",
          "model_name": "HTMLModel",
          "model_module_version": "1.5.0",
          "state": {
            "_view_name": "HTMLView",
            "style": "IPY_MODEL_8d24d8ce26b04725bc9ff3c3fad786f9",
            "_dom_classes": [],
            "description": "",
            "_model_name": "HTMLModel",
            "placeholder": "​",
            "_view_module": "@jupyter-widgets/controls",
            "_model_module_version": "1.5.0",
            "value": " 3/3 [00:00&lt;00:00, 47.41it/s]",
            "_view_count": null,
            "_view_module_version": "1.5.0",
            "description_tooltip": null,
            "_model_module": "@jupyter-widgets/controls",
            "layout": "IPY_MODEL_643d2c9f44204d3393fb1844c4c9be4a"
          }
        },
        "6fde2b73f0b84a0a9f993ee16c22fced": {
          "model_module": "@jupyter-widgets/controls",
          "model_name": "DescriptionStyleModel",
          "model_module_version": "1.5.0",
          "state": {
            "_view_name": "StyleView",
            "_model_name": "DescriptionStyleModel",
            "description_width": "",
            "_view_module": "@jupyter-widgets/base",
            "_model_module_version": "1.5.0",
            "_view_count": null,
            "_view_module_version": "1.2.0",
            "_model_module": "@jupyter-widgets/controls"
          }
        },
        "44c0f3e6c98f45359016b61bb7a035e1": {
          "model_module": "@jupyter-widgets/base",
          "model_name": "LayoutModel",
          "model_module_version": "1.2.0",
          "state": {
            "_view_name": "LayoutView",
            "grid_template_rows": null,
            "right": null,
            "justify_content": null,
            "_view_module": "@jupyter-widgets/base",
            "overflow": null,
            "_model_module_version": "1.2.0",
            "_view_count": null,
            "flex_flow": null,
            "width": null,
            "min_width": null,
            "border": null,
            "align_items": null,
            "bottom": null,
            "_model_module": "@jupyter-widgets/base",
            "top": null,
            "grid_column": null,
            "overflow_y": null,
            "overflow_x": null,
            "grid_auto_flow": null,
            "grid_area": null,
            "grid_template_columns": null,
            "flex": null,
            "_model_name": "LayoutModel",
            "justify_items": null,
            "grid_row": null,
            "max_height": null,
            "align_content": null,
            "visibility": null,
            "align_self": null,
            "height": null,
            "min_height": null,
            "padding": null,
            "grid_auto_rows": null,
            "grid_gap": null,
            "max_width": null,
            "order": null,
            "_view_module_version": "1.2.0",
            "grid_template_areas": null,
            "object_position": null,
            "object_fit": null,
            "grid_auto_columns": null,
            "margin": null,
            "display": null,
            "left": null
          }
        },
        "e341137e90e049c482c188a02fc1d73a": {
          "model_module": "@jupyter-widgets/controls",
          "model_name": "ProgressStyleModel",
          "model_module_version": "1.5.0",
          "state": {
            "_view_name": "StyleView",
            "_model_name": "ProgressStyleModel",
            "description_width": "",
            "_view_module": "@jupyter-widgets/base",
            "_model_module_version": "1.5.0",
            "_view_count": null,
            "_view_module_version": "1.2.0",
            "bar_color": null,
            "_model_module": "@jupyter-widgets/controls"
          }
        },
        "58594a5f98784c59b81f758f617d8e35": {
          "model_module": "@jupyter-widgets/base",
          "model_name": "LayoutModel",
          "model_module_version": "1.2.0",
          "state": {
            "_view_name": "LayoutView",
            "grid_template_rows": null,
            "right": null,
            "justify_content": null,
            "_view_module": "@jupyter-widgets/base",
            "overflow": null,
            "_model_module_version": "1.2.0",
            "_view_count": null,
            "flex_flow": null,
            "width": null,
            "min_width": null,
            "border": null,
            "align_items": null,
            "bottom": null,
            "_model_module": "@jupyter-widgets/base",
            "top": null,
            "grid_column": null,
            "overflow_y": null,
            "overflow_x": null,
            "grid_auto_flow": null,
            "grid_area": null,
            "grid_template_columns": null,
            "flex": null,
            "_model_name": "LayoutModel",
            "justify_items": null,
            "grid_row": null,
            "max_height": null,
            "align_content": null,
            "visibility": null,
            "align_self": null,
            "height": null,
            "min_height": null,
            "padding": null,
            "grid_auto_rows": null,
            "grid_gap": null,
            "max_width": null,
            "order": null,
            "_view_module_version": "1.2.0",
            "grid_template_areas": null,
            "object_position": null,
            "object_fit": null,
            "grid_auto_columns": null,
            "margin": null,
            "display": null,
            "left": null
          }
        },
        "8d24d8ce26b04725bc9ff3c3fad786f9": {
          "model_module": "@jupyter-widgets/controls",
          "model_name": "DescriptionStyleModel",
          "model_module_version": "1.5.0",
          "state": {
            "_view_name": "StyleView",
            "_model_name": "DescriptionStyleModel",
            "description_width": "",
            "_view_module": "@jupyter-widgets/base",
            "_model_module_version": "1.5.0",
            "_view_count": null,
            "_view_module_version": "1.2.0",
            "_model_module": "@jupyter-widgets/controls"
          }
        },
        "643d2c9f44204d3393fb1844c4c9be4a": {
          "model_module": "@jupyter-widgets/base",
          "model_name": "LayoutModel",
          "model_module_version": "1.2.0",
          "state": {
            "_view_name": "LayoutView",
            "grid_template_rows": null,
            "right": null,
            "justify_content": null,
            "_view_module": "@jupyter-widgets/base",
            "overflow": null,
            "_model_module_version": "1.2.0",
            "_view_count": null,
            "flex_flow": null,
            "width": null,
            "min_width": null,
            "border": null,
            "align_items": null,
            "bottom": null,
            "_model_module": "@jupyter-widgets/base",
            "top": null,
            "grid_column": null,
            "overflow_y": null,
            "overflow_x": null,
            "grid_auto_flow": null,
            "grid_area": null,
            "grid_template_columns": null,
            "flex": null,
            "_model_name": "LayoutModel",
            "justify_items": null,
            "grid_row": null,
            "max_height": null,
            "align_content": null,
            "visibility": null,
            "align_self": null,
            "height": null,
            "min_height": null,
            "padding": null,
            "grid_auto_rows": null,
            "grid_gap": null,
            "max_width": null,
            "order": null,
            "_view_module_version": "1.2.0",
            "grid_template_areas": null,
            "object_position": null,
            "object_fit": null,
            "grid_auto_columns": null,
            "margin": null,
            "display": null,
            "left": null
          }
        }
      }
    }
  },
  "cells": [
    {
      "cell_type": "code",
      "source": [
        "from google.colab import drive\n",
        "drive.mount('/content/drive')"
      ],
      "metadata": {
        "colab": {
          "base_uri": "https://localhost:8080/"
        },
        "id": "Qisazm-4lL-R",
        "outputId": "b149b922-a1f6-4a66-e1d5-2a59221c1d90"
      },
      "execution_count": null,
      "outputs": [
        {
          "output_type": "stream",
          "name": "stdout",
          "text": [
            "Drive already mounted at /content/drive; to attempt to forcibly remount, call drive.mount(\"/content/drive\", force_remount=True).\n"
          ]
        }
      ]
    },
    {
      "cell_type": "code",
      "metadata": {
        "id": "WbtW6BfB1td1",
        "colab": {
          "base_uri": "https://localhost:8080/"
        },
        "outputId": "c224e2e4-5671-4461-92fa-2076eeec03d3"
      },
      "source": [
        "!pip install ipython-autotime > /dev/null\n",
        "%load_ext autotime"
      ],
      "execution_count": null,
      "outputs": [
        {
          "output_type": "stream",
          "name": "stdout",
          "text": [
            "time: 208 µs (started: 2022-02-21 18:41:17 +00:00)\n"
          ]
        }
      ]
    },
    {
      "cell_type": "code",
      "metadata": {
        "id": "mnAV5-gRZTEv",
        "colab": {
          "base_uri": "https://localhost:8080/"
        },
        "outputId": "23096b31-61b3-4667-9821-0b3d90ca3cad"
      },
      "source": [
        "!pip install -U datasets > /dev/null\n",
        "!pip install contractions > /dev/null\n",
        "!pip install -U tqdm > /dev/null\n",
        "!pip install fasttext > /dev/null"
      ],
      "execution_count": null,
      "outputs": [
        {
          "output_type": "stream",
          "name": "stdout",
          "text": [
            "time: 1min 8s (started: 2022-02-21 18:41:17 +00:00)\n"
          ]
        }
      ]
    },
    {
      "cell_type": "code",
      "metadata": {
        "id": "CSi0WIR05tY4",
        "colab": {
          "base_uri": "https://localhost:8080/"
        },
        "outputId": "0408cba2-ba45-4d63-a015-5c61ee5cbb0a"
      },
      "source": [
        "import sys\n",
        "sys.path.append(\"drive/MyDrive/Dev/ID_in_CRS\")"
      ],
      "execution_count": null,
      "outputs": [
        {
          "output_type": "stream",
          "name": "stdout",
          "text": [
            "time: 1.98 ms (started: 2022-02-21 18:42:26 +00:00)\n"
          ]
        }
      ]
    },
    {
      "cell_type": "code",
      "metadata": {
        "id": "4578gLJ_X7NQ",
        "colab": {
          "base_uri": "https://localhost:8080/"
        },
        "outputId": "128a4bc4-9054-4a13-b079-ae661fe15b70"
      },
      "source": [
        "data_path = \"drive/MyDrive/Datasets/MultiWOZ_2.2_v2\"\n",
        "!mkdir -p {data_path}"
      ],
      "execution_count": null,
      "outputs": [
        {
          "output_type": "stream",
          "name": "stdout",
          "text": [
            "time: 115 ms (started: 2022-02-21 18:42:26 +00:00)\n"
          ]
        }
      ]
    },
    {
      "cell_type": "code",
      "metadata": {
        "colab": {
          "base_uri": "https://localhost:8080/"
        },
        "id": "o2qKMOJZ6nPJ",
        "outputId": "10f64800-c87a-4c93-8369-36e525a501d7"
      },
      "source": [
        "!git clone https://github.com/budzianowski/multiwoz.git > /dev/null\n",
        "!tail -n +7 multiwoz/db/hospital_db.json > tmp.json && mv tmp.json multiwoz/db/hospital_db.json && rm -rf tmp.json\n",
        "\n",
        "db_path = \"multiwoz/db\"\n",
        "mapping_path = \"multiwoz/utils/mapping.pair\""
      ],
      "execution_count": null,
      "outputs": [
        {
          "output_type": "stream",
          "name": "stdout",
          "text": [
            "Cloning into 'multiwoz'...\n",
            "remote: Enumerating objects: 612, done.\u001b[K\n",
            "remote: Counting objects: 100% (248/248), done.\u001b[K\n",
            "remote: Compressing objects: 100% (203/203), done.\u001b[K\n",
            "remote: Total 612 (delta 143), reused 76 (delta 44), pack-reused 364\u001b[K\n",
            "Receiving objects: 100% (612/612), 126.37 MiB | 15.87 MiB/s, done.\n",
            "Resolving deltas: 100% (357/357), done.\n",
            "Checking out files: 100% (61/61), done.\n",
            "time: 21.6 s (started: 2022-02-21 18:42:26 +00:00)\n"
          ]
        }
      ]
    },
    {
      "cell_type": "markdown",
      "metadata": {
        "id": "GNPhbu6gQUri"
      },
      "source": [
        "# Prepare Data"
      ]
    },
    {
      "cell_type": "code",
      "metadata": {
        "id": "pbQyobaY8NOp",
        "colab": {
          "base_uri": "https://localhost:8080/"
        },
        "outputId": "a625c37e-a8a8-4a43-e8bb-95087a262322"
      },
      "source": [
        "import os\n",
        "import json\n",
        "import pandas as pd\n",
        "import glob\n",
        "import random\n",
        "import re\n",
        "from tqdm import tqdm\n",
        "from collections import defaultdict\n",
        "import contractions\n",
        "import nltk\n",
        "from nltk.stem.porter import PorterStemmer\n",
        "from nltk.stem import WordNetLemmatizer\n",
        "from nltk.corpus import stopwords"
      ],
      "execution_count": null,
      "outputs": [
        {
          "output_type": "stream",
          "name": "stdout",
          "text": [
            "time: 1.18 s (started: 2022-02-21 18:42:48 +00:00)\n"
          ]
        }
      ]
    },
    {
      "cell_type": "code",
      "metadata": {
        "colab": {
          "base_uri": "https://localhost:8080/"
        },
        "id": "DFVAbv-hyl6i",
        "outputId": "8df41653-91b2-43fc-ce45-7749ba9cb999"
      },
      "source": [
        "nltk.download('stopwords')\n",
        "nltk.download('wordnet')"
      ],
      "execution_count": null,
      "outputs": [
        {
          "output_type": "stream",
          "name": "stdout",
          "text": [
            "[nltk_data] Downloading package stopwords to /root/nltk_data...\n",
            "[nltk_data]   Unzipping corpora/stopwords.zip.\n",
            "[nltk_data] Downloading package wordnet to /root/nltk_data...\n",
            "[nltk_data]   Unzipping corpora/wordnet.zip.\n"
          ]
        },
        {
          "output_type": "execute_result",
          "data": {
            "text/plain": [
              "True"
            ]
          },
          "metadata": {},
          "execution_count": 9
        },
        {
          "output_type": "stream",
          "name": "stdout",
          "text": [
            "time: 732 ms (started: 2022-02-21 18:42:49 +00:00)\n"
          ]
        }
      ]
    },
    {
      "cell_type": "code",
      "metadata": {
        "colab": {
          "base_uri": "https://localhost:8080/"
        },
        "id": "iCaEES-16sxr",
        "outputId": "317e0559-7677-4b64-aef8-1df2bb3a466c"
      },
      "source": [
        "from cleaners.multiwoz import Cleaner\n",
        "\n",
        "cleaner = Cleaner(mapping_path, db_path)"
      ],
      "execution_count": null,
      "outputs": [
        {
          "output_type": "stream",
          "name": "stdout",
          "text": [
            "time: 790 ms (started: 2022-02-21 18:42:49 +00:00)\n"
          ]
        }
      ]
    },
    {
      "cell_type": "code",
      "metadata": {
        "id": "ii_1gLCdYyE4",
        "colab": {
          "base_uri": "https://localhost:8080/",
          "height": 234,
          "referenced_widgets": [
            "e3b6ab0585344129bc9a6b5f935f78a8",
            "ff382427724c4808a1016b72de8a8cac",
            "0393acdd72b54b88942579540945259d",
            "070503145ff24c8c9c718f15b976280f",
            "b53bc254a52c427abeb4955544c69c48",
            "084b51234678400686b65c1bb7f828bb",
            "9cf67490bfde47e39f6813033d4fab91",
            "becfe484176b422abe23d098cb1d8122",
            "37b0c17786724963ab657e302431a3f7",
            "a7754ae0b1f94a93b6f80b95bd7ed8b8",
            "b0c6183365e8482ca21511d30a12d8c6",
            "5fe083a7cd344c88973fa766344d036e",
            "5722fe623c44416d8a595de0ebd90534",
            "70e39ed4408b49aeab499382a87513df",
            "312e8f60cfaa445da4aff45e55e760b3",
            "16a5677b43454f759de6eb33b77eb675",
            "b5afd1db45f74bcfb7d86b34704cdfb6",
            "a86913f4b61042bab51cceeb9ed372f2",
            "e0486b497c3446b0be0e95e94df8a87f",
            "504a9f8b18a343d597db7e5e7270558b",
            "a586741c867248e297401d55083958b4",
            "c5a38ab8c27a40e7895c063d26e6ccf3",
            "98a9c0a2ef6647db9de4b68a8b407183",
            "71c336843e77430d97357d3c47a22940",
            "3511b9897d994656be70aac05fea3dd3",
            "2cad5706b0bf419da97864f8ddf39a8c",
            "3ac0a246db8748ddaf6b7aa9a600d111",
            "43898b9859fa4d44b6642e0552401369",
            "859352ae2c7246f7944b43bd8dec49fa",
            "748d40b27f3947fb91b25182d04041af",
            "a55ad0b197ad4ade9f0cb7a1e72819e4",
            "c70bdaae178e48bf90e9fb75f18740fc",
            "954b4643928b46ac9cd2c0b99b9a4f85",
            "b5a92da48a2b4a648f75abdb04927817",
            "866e07eddde1457e811e7b673e30926d",
            "8379d9509a9f486ab9fdf7161f1ccd19",
            "ad0fd5803d7e45ff92c8915dac8a8f1f",
            "f01604aba534401796ba9636b7317b2f",
            "1c4b6914c0c54e048d2db971ec3ab758",
            "16eb534a507c42d0ad9e3f199023b52a",
            "cb57d6f547654f1b8abb22526dd0eaa6",
            "d2e833822fd344049e68679d8303fce5",
            "517e7efc83544055b2d7663924924256",
            "b2532158512847fabc9fe0c56abc4047",
            "915a0bccff32454b82402693a1b3340b",
            "f9fe8eb61b844bb6aa4fa7ccbee767cc",
            "0dadcc3293d144128b0e472124b919aa",
            "747507f573e84493aee7fa7a9fe7bffb",
            "cfc325614475411690fe1738e842823d",
            "29f49c71dcc94b02aab794fc340d95ac",
            "808445827be444479bc17579128039a3",
            "83a8aa0ea5ef49ddb0ebc8cad030366f",
            "a63c57d39aaf46f18dbde035cf2960e4",
            "7e69f70d9cf6453283d83fe34ce0dae9",
            "ebcd718eb8704eb9acebec0e164341f0",
            "553882e005544a208e3a3d67366dd52c",
            "dede6bcffee349a49e378b8888a3b3f8",
            "e84eae9e06a148428a84756a000dba4d",
            "d372053c7abe407c9ca4ef9c1a327f12",
            "65eb3ee2cb12471d9a37220725992d29",
            "a7e92ee223264006b2f2f7fe855b4da9",
            "a34df450866e4049ba3a69940afbb2e3",
            "a0749c5cd475419287ba2e2f5a791a63",
            "274da6b42f4844e78c17b4b03c2444e6",
            "6574a3951dcf46b3bdf77a6090f33330",
            "81456f2303304718988973d8811b8060",
            "de65a7fd83e848549cfca5d61aba8dd0",
            "31c9fb93104047f69c7ef4bd0569f060",
            "0ee85aa5773148fca3a2c4238dbbd917",
            "a5913557af224464b47b2bb3d216d07f",
            "1cf939d4f65447e5a7e296b851b664df",
            "6fde2b73f0b84a0a9f993ee16c22fced",
            "44c0f3e6c98f45359016b61bb7a035e1",
            "e341137e90e049c482c188a02fc1d73a",
            "58594a5f98784c59b81f758f617d8e35",
            "8d24d8ce26b04725bc9ff3c3fad786f9",
            "643d2c9f44204d3393fb1844c4c9be4a"
          ]
        },
        "outputId": "fa635518-4ce2-473f-f10a-67272bb99067"
      },
      "source": [
        "from datasets import load_dataset\n",
        "\n",
        "dataset = load_dataset(\"multi_woz_v22\", ignore_verifications=True)"
      ],
      "execution_count": null,
      "outputs": [
        {
          "output_type": "display_data",
          "data": {
            "application/vnd.jupyter.widget-view+json": {
              "model_id": "e3b6ab0585344129bc9a6b5f935f78a8",
              "version_minor": 0,
              "version_major": 2
            },
            "text/plain": [
              "Downloading:   0%|          | 0.00/3.10k [00:00<?, ?B/s]"
            ]
          },
          "metadata": {}
        },
        {
          "output_type": "display_data",
          "data": {
            "application/vnd.jupyter.widget-view+json": {
              "model_id": "5fe083a7cd344c88973fa766344d036e",
              "version_minor": 0,
              "version_major": 2
            },
            "text/plain": [
              "Downloading:   0%|          | 0.00/2.77k [00:00<?, ?B/s]"
            ]
          },
          "metadata": {}
        },
        {
          "output_type": "stream",
          "name": "stderr",
          "text": [
            "No config specified, defaulting to: multi_woz_v22/v2.2_active_only\n"
          ]
        },
        {
          "output_type": "stream",
          "name": "stdout",
          "text": [
            "Downloading and preparing dataset multi_woz_v22/v2.2_active_only (download: 263.97 MiB, generated: 49.24 MiB, post-processed: Unknown size, total: 313.21 MiB) to /root/.cache/huggingface/datasets/multi_woz_v22/v2.2_active_only/2.2.0/7452f16a8b502e97df5c04cc4ee5436464762fa93b1ce778dd14181e79d8b51a...\n"
          ]
        },
        {
          "output_type": "display_data",
          "data": {
            "application/vnd.jupyter.widget-view+json": {
              "model_id": "98a9c0a2ef6647db9de4b68a8b407183",
              "version_minor": 0,
              "version_major": 2
            },
            "text/plain": [
              "  0%|          | 0/22 [00:00<?, ?it/s]"
            ]
          },
          "metadata": {}
        },
        {
          "output_type": "display_data",
          "data": {
            "application/vnd.jupyter.widget-view+json": {
              "model_id": "b5a92da48a2b4a648f75abdb04927817",
              "version_minor": 0,
              "version_major": 2
            },
            "text/plain": [
              "0 examples [00:00, ? examples/s]"
            ]
          },
          "metadata": {}
        },
        {
          "output_type": "display_data",
          "data": {
            "application/vnd.jupyter.widget-view+json": {
              "model_id": "915a0bccff32454b82402693a1b3340b",
              "version_minor": 0,
              "version_major": 2
            },
            "text/plain": [
              "0 examples [00:00, ? examples/s]"
            ]
          },
          "metadata": {}
        },
        {
          "output_type": "display_data",
          "data": {
            "application/vnd.jupyter.widget-view+json": {
              "model_id": "553882e005544a208e3a3d67366dd52c",
              "version_minor": 0,
              "version_major": 2
            },
            "text/plain": [
              "0 examples [00:00, ? examples/s]"
            ]
          },
          "metadata": {}
        },
        {
          "output_type": "stream",
          "name": "stdout",
          "text": [
            "Dataset multi_woz_v22 downloaded and prepared to /root/.cache/huggingface/datasets/multi_woz_v22/v2.2_active_only/2.2.0/7452f16a8b502e97df5c04cc4ee5436464762fa93b1ce778dd14181e79d8b51a. Subsequent calls will reuse this data.\n"
          ]
        },
        {
          "output_type": "display_data",
          "data": {
            "application/vnd.jupyter.widget-view+json": {
              "model_id": "de65a7fd83e848549cfca5d61aba8dd0",
              "version_minor": 0,
              "version_major": 2
            },
            "text/plain": [
              "  0%|          | 0/3 [00:00<?, ?it/s]"
            ]
          },
          "metadata": {}
        },
        {
          "output_type": "stream",
          "name": "stdout",
          "text": [
            "time: 52.1 s (started: 2022-02-21 18:42:50 +00:00)\n"
          ]
        }
      ]
    },
    {
      "cell_type": "code",
      "metadata": {
        "id": "d2OgIC_4th1e",
        "colab": {
          "base_uri": "https://localhost:8080/"
        },
        "outputId": "03229561-e938-454b-f429-796a8b6fcb15"
      },
      "source": [
        "def parse_data(tvt):\n",
        "#     filtered_domains = set([\"bus\", \"police\", \"hospital\"])\n",
        "    filtered_domains = set()\n",
        "\n",
        "    cleaned_dialogues = {}\n",
        "    for dialogue in tqdm(dataset[tvt]):\n",
        "        dialogue_id = dialogue[\"dialogue_id\"]\n",
        "        turns = dialogue[\"turns\"]\n",
        "        cleaned_turns = []\n",
        "        for speaker, utterance, frames, dialogue_acts in zip(turns[\"speaker\"], turns[\"utterance\"], turns[\"frames\"], turns[\"dialogue_acts\"]):\n",
        "            if speaker == 1:\n",
        "                continue\n",
        "\n",
        "            domains, intents = [], []\n",
        "            for service, state in zip(frames[\"service\"], frames[\"state\"]):\n",
        "                if state[\"active_intent\"] != \"NONE\":\n",
        "                    domains.append(service)\n",
        "                    intents.append(state[\"active_intent\"])\n",
        "\n",
        "            if filtered_domains.intersection(domains):\n",
        "                continue\n",
        "\n",
        "            slot_positions = sorted(list(zip(dialogue_acts[\"span_info\"][\"span_start\"], dialogue_acts[\"span_info\"][\"span_end\"])))\n",
        "            slot_names0, slot_names1, slot_values = [], [], []\n",
        "            for idx1, pos in enumerate(slot_positions):\n",
        "                si, ei = pos\n",
        "                slot_value = cleaner.clean(utterance[si: ei])\n",
        "                slot_value = cleaner.tokenize(slot_value)\n",
        "                slot_name0 = dialogue_acts[\"span_info\"][\"act_slot_name\"][idx1]\n",
        "                slot_type = dialogue_acts[\"span_info\"][\"act_type\"][idx1].split('-')[0].lower()\n",
        "                # slot_type = slot_type if slot_type != \"booking\" else domains[0]\n",
        "\n",
        "                for idx2, word_slot_value in enumerate(slot_value):\n",
        "                    slot_values.append(word_slot_value)\n",
        "                    slot_names0.append(f\"{'I' if idx2 else 'B'}-{slot_name0}\")\n",
        "                    slot_names1.append(f\"{'I' if idx2 else 'B'}-{slot_type}_{slot_name0}\")\n",
        "                    # slot_names0.append(slot_name0)\n",
        "                    # slot_names1.append(f\"{slot_type}_{slot_name0}\")\n",
        "\n",
        "            text = cleaner.clean(utterance)\n",
        "            words = cleaner.tokenize(text)\n",
        "\n",
        "            slots0 = []\n",
        "            slots1 = []\n",
        "            idx = 0\n",
        "            for word in words:\n",
        "                if idx < len(slot_values) and word == slot_values[idx]:\n",
        "                    slots0.append(slot_names0[idx])\n",
        "                    slots1.append(slot_names1[idx])\n",
        "                    idx += 1\n",
        "                else:\n",
        "                    slots0.append(\"O\")\n",
        "                    slots1.append(\"O\")\n",
        "\n",
        "            if idx != len(slot_values):\n",
        "                continue\n",
        "\n",
        "            cleaned_turns.append({\n",
        "                \"speaker\": speaker,\n",
        "                \"words\": words,\n",
        "                \"slots0\": slots0,\n",
        "                \"slots1\": slots1,  # TODO: check and revise\n",
        "                \"domains\": domains,\n",
        "                \"intents\": intents\n",
        "            })\n",
        "\n",
        "        cleaned_dialogues[dialogue_id] = cleaned_turns\n",
        "\n",
        "    return cleaned_dialogues\n",
        "\n",
        "\n",
        "train_data = parse_data(\"train\")\n",
        "val_data = parse_data(\"validation\")\n",
        "test_data = parse_data(\"test\")"
      ],
      "execution_count": null,
      "outputs": [
        {
          "output_type": "stream",
          "name": "stderr",
          "text": [
            "100%|██████████| 8437/8437 [13:10<00:00, 10.67it/s]\n",
            "100%|██████████| 1000/1000 [01:43<00:00,  9.66it/s]\n",
            "100%|██████████| 1000/1000 [01:43<00:00,  9.62it/s]"
          ]
        },
        {
          "output_type": "stream",
          "name": "stdout",
          "text": [
            "time: 16min 38s (started: 2022-02-21 18:43:42 +00:00)\n"
          ]
        },
        {
          "output_type": "stream",
          "name": "stderr",
          "text": [
            "\n"
          ]
        }
      ]
    },
    {
      "cell_type": "code",
      "metadata": {
        "id": "LcOskA91bNnQ",
        "colab": {
          "base_uri": "https://localhost:8080/"
        },
        "outputId": "400ed0e8-1893-4f87-92f5-b3ba6118a13d"
      },
      "source": [
        "with open(f\"{data_path}/train.json\", \"w\") as json_file:\n",
        "    json.dump(train_data, json_file)\n",
        "with open(f\"{data_path}/validation.json\", \"w\") as json_file:\n",
        "    json.dump(val_data, json_file)\n",
        "with open(f\"{data_path}/test.json\", \"w\") as json_file:\n",
        "    json.dump(test_data, json_file)"
      ],
      "execution_count": null,
      "outputs": [
        {
          "output_type": "stream",
          "name": "stdout",
          "text": [
            "time: 4.22 s (started: 2022-02-21 19:00:21 +00:00)\n"
          ]
        }
      ]
    },
    {
      "cell_type": "code",
      "metadata": {
        "colab": {
          "base_uri": "https://localhost:8080/"
        },
        "id": "M-gXp7GB-laA",
        "outputId": "0155d3e0-20c7-4047-87dd-21fc20a3b9b1"
      },
      "source": [
        "import gc\n",
        "\n",
        "del dataset\n",
        "gc.collect()"
      ],
      "execution_count": null,
      "outputs": [
        {
          "output_type": "execute_result",
          "data": {
            "text/plain": [
              "196"
            ]
          },
          "metadata": {},
          "execution_count": 14
        },
        {
          "output_type": "stream",
          "name": "stdout",
          "text": [
            "time: 356 ms (started: 2022-02-21 19:00:25 +00:00)\n"
          ]
        }
      ]
    },
    {
      "cell_type": "markdown",
      "metadata": {
        "id": "M1fXDo2DHWS4"
      },
      "source": [
        "# UNK Words"
      ]
    },
    {
      "cell_type": "code",
      "metadata": {
        "colab": {
          "base_uri": "https://localhost:8080/"
        },
        "id": "JsK379xRHbSX",
        "outputId": "c90d2d7b-a367-4bf7-cefd-ada8ae139d26"
      },
      "source": [
        "from collections import defaultdict\n",
        "\n",
        "with open(f\"{data_path}/train.json\", \"r\") as json_file:\n",
        "    data = json.load(json_file)\n",
        "\n",
        "words_count = defaultdict(int)\n",
        "for id, dialogue in data.items():\n",
        "    for turn in dialogue:\n",
        "        for word in turn[\"words\"]:\n",
        "            words_count[word] += 1\n",
        "\n",
        "min_count = 3\n",
        "vocab = set(word for word, freq in words_count.items() if freq >= min_count)\n",
        "\n",
        "for tvt in [\"train\", \"validation\", \"test\"]:\n",
        "    with open(f\"{data_path}/{tvt}.json\", \"r\") as json_file:\n",
        "        data = json.load(json_file)\n",
        "\n",
        "    for dlg_id, dialogue in data.items():\n",
        "        for trn_id, turn in enumerate(dialogue):\n",
        "            for idx, word in enumerate(turn[\"words\"]):\n",
        "                if word not in vocab:\n",
        "                    turn[\"words\"][idx] = \"UNK\"\n",
        "\n",
        "    with open(f\"{data_path}/{tvt}.json\", \"w\") as json_file:\n",
        "        json.dump(data, json_file)"
      ],
      "execution_count": null,
      "outputs": [
        {
          "output_type": "stream",
          "name": "stdout",
          "text": [
            "time: 5.5 s (started: 2022-02-21 19:00:25 +00:00)\n"
          ]
        }
      ]
    },
    {
      "cell_type": "markdown",
      "metadata": {
        "id": "8hEbEatv9nco"
      },
      "source": [
        "# Label Refinement"
      ]
    },
    {
      "cell_type": "code",
      "metadata": {
        "id": "QtNuNcUYMCVS",
        "colab": {
          "base_uri": "https://localhost:8080/"
        },
        "outputId": "95e7e20b-9f9c-419b-8109-dbcd69d603bb"
      },
      "source": [
        "# import math\n",
        "# import os\n",
        "# import json\n",
        "# from sklearn.pipeline import make_pipeline\n",
        "# from sklearn.feature_extraction.text import TfidfVectorizer\n",
        "# from sklearn.metrics import classification_report, confusion_matrix\n",
        "# import fasttext\n",
        "# from collections import defaultdict"
      ],
      "execution_count": null,
      "outputs": [
        {
          "output_type": "stream",
          "name": "stdout",
          "text": [
            "time: 1.68 ms (started: 2022-02-21 19:00:31 +00:00)\n"
          ]
        }
      ]
    },
    {
      "cell_type": "code",
      "metadata": {
        "id": "CoQPFkRmbTt2",
        "colab": {
          "base_uri": "https://localhost:8080/"
        },
        "outputId": "c2fb26e8-c36c-4e74-b32b-ad57d04ea0de"
      },
      "source": [
        "# with open(f\"{data_path}/train.json\", \"r\") as json_file:\n",
        "#     train_data = json.load(json_file)\n",
        "# with open(f\"{data_path}/validation.json\", \"r\") as json_file:\n",
        "#     val_data = json.load(json_file)\n",
        "# with open(f\"{data_path}/test.json\", \"r\") as json_file:\n",
        "#     test_data = json.load(json_file)"
      ],
      "execution_count": null,
      "outputs": [
        {
          "output_type": "stream",
          "name": "stdout",
          "text": [
            "time: 2.32 ms (started: 2022-02-21 19:00:31 +00:00)\n"
          ]
        }
      ]
    },
    {
      "cell_type": "code",
      "metadata": {
        "id": "bXOLvdlBtzLw",
        "colab": {
          "base_uri": "https://localhost:8080/"
        },
        "outputId": "cce44b67-7389-43b8-f2d2-184ec2adb6bb"
      },
      "source": [
        "# def read_data(data):\n",
        "#     X, y = [], []\n",
        "\n",
        "#     for id, dlg in data.items():\n",
        "#         for trn in dlg:\n",
        "#             X.append(\" \".join(trn[\"words\"]))\n",
        "            \n",
        "#             if len(trn[\"domains\"]):\n",
        "#                 y.append(1)\n",
        "#             else:\n",
        "#                 y.append(0)\n",
        "\n",
        "#     return X, y\n",
        "\n",
        "# X_train, y_train = read_data(train_data)\n",
        "# X_val, y_val = read_data(val_data)\n",
        "# X_test, y_test = read_data(test_data)"
      ],
      "execution_count": null,
      "outputs": [
        {
          "output_type": "stream",
          "name": "stdout",
          "text": [
            "time: 3.33 ms (started: 2022-02-21 19:00:31 +00:00)\n"
          ]
        }
      ]
    },
    {
      "cell_type": "code",
      "metadata": {
        "id": "CtIbdi8X1ibm",
        "colab": {
          "base_uri": "https://localhost:8080/"
        },
        "outputId": "06556879-bfdb-44f5-a1fc-a2a6d8309a17"
      },
      "source": [
        "# print(len(y_train), len(y_val), len(y_test))"
      ],
      "execution_count": null,
      "outputs": [
        {
          "output_type": "stream",
          "name": "stdout",
          "text": [
            "time: 1.54 ms (started: 2022-02-21 19:00:31 +00:00)\n"
          ]
        }
      ]
    },
    {
      "cell_type": "code",
      "metadata": {
        "id": "VQchThbnlqeH",
        "colab": {
          "base_uri": "https://localhost:8080/"
        },
        "outputId": "7afbeb91-183f-49d0-a3a1-79fe3a2414f2"
      },
      "source": [
        "# def prepare_fasttext_file(filename, X, Y):\n",
        "#     with open(f\"{filename}.txt\", \"w\") as txt_file:\n",
        "#         for x, y in zip(X, Y):\n",
        "#             txt_file.write(f\"__label__{y} {x}\\n\")\n",
        "\n",
        "# prepare_fasttext_file(\"train\", X_train, y_train)\n",
        "# prepare_fasttext_file(\"val\", X_val, y_val)\n",
        "# prepare_fasttext_file(\"test\", X_test, y_test)"
      ],
      "execution_count": null,
      "outputs": [
        {
          "output_type": "stream",
          "name": "stdout",
          "text": [
            "time: 2.62 ms (started: 2022-02-21 19:00:31 +00:00)\n"
          ]
        }
      ]
    },
    {
      "cell_type": "code",
      "metadata": {
        "id": "pq6r187k6zwN",
        "colab": {
          "base_uri": "https://localhost:8080/"
        },
        "outputId": "8e9c129e-9f40-45fa-cb52-63365611ce41"
      },
      "source": [
        "# import gc\n",
        "\n",
        "# run_flag = False\n",
        "# model_path = \"drive/MyDrive/Development/ID_in_CRS/label_model.bin\"\n",
        "\n",
        "# if run_flag or not os.path.exists(model_path):\n",
        "#     for rnd in range(6):\n",
        "#         print(f\"ROUND {rnd + 1}\")\n",
        "\n",
        "#         model = fasttext.train_supervised(\n",
        "#             input=\"train.txt\",\n",
        "#             autotuneValidationFile=\"val.txt\",\n",
        "#             epoch=5\n",
        "#         )\n",
        "\n",
        "#         preds, _ = model.predict(X_test)\n",
        "#         preds = [int(pred_label[0][-1]) for pred_label in preds]\n",
        "#         print(classification_report(y_test, preds, digits=4))\n",
        "#         print(confusion_matrix(y_test, preds))\n",
        "#         print(\"#\" * 100)\n",
        "\n",
        "#         num_changes = 0\n",
        "#         # for X_list, y_list in [(X_train, y_train), (X_val, y_val), (X_test, y_test)]:\n",
        "#         for X_list, y_list in [(X_train, y_train)]:\n",
        "#             preds, probs = model.predict(X_list)\n",
        "#             preds = [int(pred_label[0][-1]) for pred_label in preds]\n",
        "#             probs = [prob[0] for prob in probs]\n",
        "\n",
        "#             for idx in range(len(y_list)):\n",
        "#                 if y_list[idx] != preds[idx] and probs[idx] > (1 - (0.15 / math.log2(rnd + 2))):\n",
        "#                     y_list[idx] = preds[idx]\n",
        "#                     num_changes += 1  \n",
        "\n",
        "#         prepare_fasttext_file(\"train\", X_train, y_train)\n",
        "#         # prepare_fasttext_file(\"val\", X_val, y_val)\n",
        "#         # prepare_fasttext_file(\"test\", X_test, y_test)\n",
        "#         model.save_model(model_path)\n",
        "\n",
        "#         del model\n",
        "#         gc.collect()\n",
        "\n",
        "#         if num_changes == 0:\n",
        "#             break\n",
        "# else:\n",
        "#     model = fasttext.load_model(model_path)\n",
        "\n",
        "#     preds, _ = model.predict(X_test)\n",
        "#     preds = [int(pred_label[0][-1]) for pred_label in preds]\n",
        "#     print(classification_report(y_test, preds, digits=4))\n",
        "#     print(confusion_matrix(y_test, preds))\n",
        "\n",
        "#     # for X_list, y_list in [(X_train, y_train), (X_val, y_val), (X_test, y_test)]:\n",
        "#     for X_list, y_list in [(X_train, y_train)]:\n",
        "#         preds, probs = model.predict(X_list)\n",
        "#         preds = [int(pred_label[0][-1]) for pred_label in preds]\n",
        "#         probs = [prob[0] for prob in probs]\n",
        "\n",
        "#         for idx in range(len(y_list)):\n",
        "#             if y_list[idx] == 1 and preds[idx] == 0 and probs[idx] > 0.95:\n",
        "#                 y_list[idx] = 0\n",
        "#             if y_list[idx] == 0 and preds[idx] == 1 and probs[idx] > 0.95:\n",
        "#                 y_list[idx] = 1\n",
        "\n",
        "#     prepare_fasttext_file(\"train\", X_train, y_train)\n",
        "#     # prepare_fasttext_file(\"val\", X_val, y_val)\n",
        "#     # prepare_fasttext_file(\"test\", X_test, y_test)"
      ],
      "execution_count": null,
      "outputs": [
        {
          "output_type": "stream",
          "name": "stdout",
          "text": [
            "time: 18.6 ms (started: 2022-02-21 19:00:31 +00:00)\n"
          ]
        }
      ]
    },
    {
      "cell_type": "code",
      "metadata": {
        "id": "8QVZm3MQ71qp",
        "colab": {
          "base_uri": "https://localhost:8080/"
        },
        "outputId": "288e12aa-3d33-4485-f40a-397b16d8f662"
      },
      "source": [
        "# refined_train_data, refined_val_data, refined_test_data = defaultdict(list), defaultdict(list), defaultdict(list)\n",
        "# for data, y_list, refined_data in zip([train_data, val_data, test_data], [y_train, y_val, y_test], [refined_train_data, refined_val_data, refined_test_data]):\n",
        "#     idx = 0\n",
        "#     num_turns = 0\n",
        "#     for id, dlg in data.items():\n",
        "#         for trn in dlg:\n",
        "#             if (len(trn[\"intents\"]) and y_list[idx] == 1) or (len(trn[\"intents\"]) == 0 and y_list[idx] == 0):\n",
        "#                 refined_data[id].append(trn)\n",
        "#                 num_turns += 1\n",
        "#             idx += 1\n",
        "#     print(num_turns)    \n",
        "\n",
        "# train_data = refined_train_data\n",
        "# # val_data = refined_val_data\n",
        "# # test_data = refined_test_data\n",
        "\n",
        "# del refined_train_data\n",
        "# del refined_val_data\n",
        "# del refined_test_data"
      ],
      "execution_count": null,
      "outputs": [
        {
          "output_type": "stream",
          "name": "stdout",
          "text": [
            "time: 3.63 ms (started: 2022-02-21 19:00:31 +00:00)\n"
          ]
        }
      ]
    },
    {
      "cell_type": "code",
      "metadata": {
        "id": "8Tx_LjcbC7dz",
        "colab": {
          "base_uri": "https://localhost:8080/"
        },
        "outputId": "a309ef5a-ef64-484a-bc94-68d1f93d4a13"
      },
      "source": [
        "# import gc\n",
        "# gc.collect()"
      ],
      "execution_count": null,
      "outputs": [
        {
          "output_type": "stream",
          "name": "stdout",
          "text": [
            "time: 913 µs (started: 2022-02-21 19:00:31 +00:00)\n"
          ]
        }
      ]
    },
    {
      "cell_type": "markdown",
      "metadata": {
        "id": "IyXsxWXp_72t"
      },
      "source": [
        "# Save Data"
      ]
    },
    {
      "cell_type": "code",
      "metadata": {
        "id": "hxxeyP46pknt",
        "colab": {
          "base_uri": "https://localhost:8080/"
        },
        "outputId": "537fdeb2-08bd-40e6-941c-62f8f5635096"
      },
      "source": [
        "# import json\n",
        "\n",
        "# with open(f\"{data_path}/train.json\", \"r\") as json_file:\n",
        "#     train_data = json.load(json_file)\n",
        "# with open(f\"{data_path}/validation.json\", \"r\") as json_file:\n",
        "#     val_data = json.load(json_file)\n",
        "# with open(f\"{data_path}/test.json\", \"r\") as json_file:\n",
        "#     test_data = json.load(json_file)"
      ],
      "execution_count": null,
      "outputs": [
        {
          "output_type": "stream",
          "name": "stdout",
          "text": [
            "time: 1.75 ms (started: 2022-02-21 19:00:31 +00:00)\n"
          ]
        }
      ]
    },
    {
      "cell_type": "code",
      "metadata": {
        "id": "BWFKQ8XkJbWd",
        "colab": {
          "base_uri": "https://localhost:8080/"
        },
        "outputId": "d286ecf5-45ca-4bba-a865-0e5f7a4e0bd1"
      },
      "source": [
        "with open(f\"{data_path}/train.json\", \"r\") as json_file:\n",
        "    data = json.load(json_file)\n",
        "\n",
        "all_words, all_domains, all_intents, all_slots0, all_slots1 = set(), set(), set(), set(), set()\n",
        "for id, dlg in data.items():\n",
        "    for trn in dlg:\n",
        "        all_words.update(trn[\"words\"])\n",
        "        all_domains.update(trn[\"domains\"])\n",
        "        all_intents.update(trn[\"intents\"])\n",
        "        all_slots0.update(trn[\"slots0\"])\n",
        "        all_slots1.update(trn[\"slots1\"])\n",
        "\n",
        "print(len(all_words))\n",
        "\n",
        "with open(f\"{data_path}/words.json\", \"w\") as json_file:\n",
        "    json.dump(sorted(all_words), json_file)\n",
        "with open(f\"{data_path}/domains.json\", \"w\") as json_file:\n",
        "    json.dump(sorted(all_domains), json_file)\n",
        "with open(f\"{data_path}/intents.json\", \"w\") as json_file:\n",
        "    json.dump(sorted(all_intents), json_file)\n",
        "with open(f\"{data_path}/slots0.json\", \"w\") as json_file:\n",
        "    json.dump(sorted(all_slots0), json_file)\n",
        "with open(f\"{data_path}/slots1.json\", \"w\") as json_file:\n",
        "    json.dump(sorted(all_slots1), json_file)"
      ],
      "execution_count": null,
      "outputs": [
        {
          "output_type": "stream",
          "name": "stdout",
          "text": [
            "1455\n",
            "time: 1.85 s (started: 2022-02-21 19:00:31 +00:00)\n"
          ]
        }
      ]
    },
    {
      "cell_type": "markdown",
      "metadata": {
        "id": "CHP14rnx8nL9"
      },
      "source": [
        "# Format to txt"
      ]
    },
    {
      "cell_type": "code",
      "metadata": {
        "id": "_LT6JuzQNJ5R",
        "colab": {
          "base_uri": "https://localhost:8080/"
        },
        "outputId": "23d69f9c-4e49-4c61-efb7-16f90407a2c6"
      },
      "source": [
        "import json\n",
        "import random"
      ],
      "execution_count": null,
      "outputs": [
        {
          "output_type": "stream",
          "name": "stdout",
          "text": [
            "time: 1.23 ms (started: 2022-02-21 19:00:33 +00:00)\n"
          ]
        }
      ]
    },
    {
      "cell_type": "code",
      "metadata": {
        "id": "wRnaAOwBKt75",
        "colab": {
          "base_uri": "https://localhost:8080/"
        },
        "outputId": "b4bb4fe8-7750-4c6b-f406-76ee2b8ab5d7"
      },
      "source": [
        "intent_label = \"intents\"\n",
        "slot_label = \"slots1\"\n",
        "\n",
        "for src_name, dst_name in zip([\"train\", \"validation\", \"test\"], [\"train\", \"dev\", \"test\"]):\n",
        "    idx = 0\n",
        "\n",
        "    with open(f\"{data_path}/{src_name}.json\", \"r\") as json_file:\n",
        "        data = json.load(json_file)\n",
        "\n",
        "    all_lines = []\n",
        "    for id, dialogue in data.items():\n",
        "        for turn in dialogue:\n",
        "            if turn[\"speaker\"] == 1:\n",
        "                continue\n",
        "\n",
        "            turn_lines = [f\"{word} {slot}\\n\" for word, slot in zip(turn[\"words\"], turn[slot_label])]\n",
        "            if len(turn[intent_label]) == 1:\n",
        "                turn_lines.append(f\"{turn[intent_label][0]}\\n\")\n",
        "                turn_lines.append(\"\\n\")\n",
        "                all_lines.extend(turn_lines)\n",
        "            elif len(turn[intent_label]) == 0:\n",
        "                turn_lines.append(f\"general\\n\")\n",
        "                turn_lines.append(\"\\n\")\n",
        "                all_lines.extend(turn_lines)\n",
        "\n",
        "    with open(f\"{data_path}/{dst_name}.txt\", \"w\") as txt_file:\n",
        "        txt_file.writelines(all_lines)"
      ],
      "execution_count": null,
      "outputs": [
        {
          "output_type": "stream",
          "name": "stdout",
          "text": [
            "time: 1.65 s (started: 2022-02-21 19:00:33 +00:00)\n"
          ]
        }
      ]
    },
    {
      "cell_type": "code",
      "metadata": {
        "id": "dKJuniujhNxI"
      },
      "source": [],
      "execution_count": null,
      "outputs": []
    }
  ]
}